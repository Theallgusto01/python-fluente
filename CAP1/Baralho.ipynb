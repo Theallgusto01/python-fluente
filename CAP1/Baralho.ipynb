{
 "cells": [
  {
   "cell_type": "markdown",
   "id": "b961452e",
   "metadata": {},
   "source": [
    "# Parte 1.2 - Um baralho pytônico"
   ]
  },
  {
   "cell_type": "code",
   "execution_count": 37,
   "id": "a5e084c3",
   "metadata": {},
   "outputs": [],
   "source": [
    "import collections\n",
    "\n",
    "Card = collections.namedtuple('Card', ['rank', 'suit'])\n",
    "\n",
    "class FrenchDeck:\n",
    "    ranks = [str(n) for n in range (2,11)] + list('JQKA')\n",
    "    suits = 'spades diamonds clubs hearts'.split()\n",
    "\n",
    "    def __init__(self):\n",
    "        self._cards = [Card(rank, suit) for suit in self.suits for rank in self.ranks]\n",
    "\n",
    "    def __len__(self):\n",
    "        return len(self._cards)\n",
    "    \n",
    "    def __getitem__(self, position):\n",
    "        return self._cards[position]"
   ]
  },
  {
   "cell_type": "code",
   "execution_count": 38,
   "id": "8ca1c855",
   "metadata": {},
   "outputs": [
    {
     "name": "stdout",
     "output_type": "stream",
     "text": [
      "52\n"
     ]
    }
   ],
   "source": [
    "deck = FrenchDeck()\n",
    "\n",
    "print(len(deck))"
   ]
  },
  {
   "cell_type": "markdown",
   "id": "908bd04e",
   "metadata": {},
   "source": [
    "Graças ao método `__getitem__` podemos iterar sobre o objeto"
   ]
  },
  {
   "cell_type": "code",
   "execution_count": 39,
   "id": "01b0088d",
   "metadata": {},
   "outputs": [
    {
     "name": "stdout",
     "output_type": "stream",
     "text": [
      "Card(rank='2', suit='spades')\n",
      "Card(rank='3', suit='spades')\n",
      "Card(rank='4', suit='spades')\n",
      "Card(rank='5', suit='spades')\n",
      "Card(rank='6', suit='spades')\n",
      "Card(rank='7', suit='spades')\n",
      "Card(rank='8', suit='spades')\n",
      "Card(rank='9', suit='spades')\n",
      "Card(rank='10', suit='spades')\n",
      "Card(rank='J', suit='spades')\n",
      "Card(rank='Q', suit='spades')\n",
      "Card(rank='K', suit='spades')\n",
      "Card(rank='A', suit='spades')\n",
      "Card(rank='2', suit='diamonds')\n",
      "Card(rank='3', suit='diamonds')\n",
      "Card(rank='4', suit='diamonds')\n",
      "Card(rank='5', suit='diamonds')\n",
      "Card(rank='6', suit='diamonds')\n",
      "Card(rank='7', suit='diamonds')\n",
      "Card(rank='8', suit='diamonds')\n",
      "Card(rank='9', suit='diamonds')\n",
      "Card(rank='10', suit='diamonds')\n",
      "Card(rank='J', suit='diamonds')\n",
      "Card(rank='Q', suit='diamonds')\n",
      "Card(rank='K', suit='diamonds')\n",
      "Card(rank='A', suit='diamonds')\n",
      "Card(rank='2', suit='clubs')\n",
      "Card(rank='3', suit='clubs')\n",
      "Card(rank='4', suit='clubs')\n",
      "Card(rank='5', suit='clubs')\n",
      "Card(rank='6', suit='clubs')\n",
      "Card(rank='7', suit='clubs')\n",
      "Card(rank='8', suit='clubs')\n",
      "Card(rank='9', suit='clubs')\n",
      "Card(rank='10', suit='clubs')\n",
      "Card(rank='J', suit='clubs')\n",
      "Card(rank='Q', suit='clubs')\n",
      "Card(rank='K', suit='clubs')\n",
      "Card(rank='A', suit='clubs')\n",
      "Card(rank='2', suit='hearts')\n",
      "Card(rank='3', suit='hearts')\n",
      "Card(rank='4', suit='hearts')\n",
      "Card(rank='5', suit='hearts')\n",
      "Card(rank='6', suit='hearts')\n",
      "Card(rank='7', suit='hearts')\n",
      "Card(rank='8', suit='hearts')\n",
      "Card(rank='9', suit='hearts')\n",
      "Card(rank='10', suit='hearts')\n",
      "Card(rank='J', suit='hearts')\n",
      "Card(rank='Q', suit='hearts')\n",
      "Card(rank='K', suit='hearts')\n",
      "Card(rank='A', suit='hearts')\n"
     ]
    }
   ],
   "source": [
    "for i in deck:\n",
    "    print(i)\n"
   ]
  },
  {
   "cell_type": "markdown",
   "id": "e79d46b0",
   "metadata": {},
   "source": [
    "Se quisermos escolher uma carta aleatória do deck podemos usar o método nativo do python `choice` no lugar de criar um método unicamente para isso e reiventar a roda"
   ]
  },
  {
   "cell_type": "code",
   "execution_count": 40,
   "id": "daceb31e",
   "metadata": {},
   "outputs": [
    {
     "data": {
      "text/plain": [
       "Card(rank='5', suit='diamonds')"
      ]
     },
     "execution_count": 40,
     "metadata": {},
     "output_type": "execute_result"
    }
   ],
   "source": [
    "from random import choice\n",
    "\n",
    "choice(deck)"
   ]
  },
  {
   "cell_type": "markdown",
   "id": "59df3394",
   "metadata": {},
   "source": [
    "Também graças ao método `__getitem__` o baralho suporta fatiamento"
   ]
  },
  {
   "cell_type": "code",
   "execution_count": 41,
   "id": "a07f34f4",
   "metadata": {},
   "outputs": [
    {
     "data": {
      "text/plain": [
       "[Card(rank='A', suit='spades'),\n",
       " Card(rank='A', suit='diamonds'),\n",
       " Card(rank='A', suit='clubs'),\n",
       " Card(rank='A', suit='hearts')]"
      ]
     },
     "execution_count": 41,
     "metadata": {},
     "output_type": "execute_result"
    }
   ],
   "source": [
    "deck[12::13] # [inicio:fim:passo] -> do 12 ao fim com passo 13 (seleciona apenas os ases)"
   ]
  },
  {
   "cell_type": "markdown",
   "id": "ff6480da",
   "metadata": {},
   "source": [
    "### Ordenamento"
   ]
  },
  {
   "cell_type": "markdown",
   "id": "2b6bd063",
   "metadata": {},
   "source": [
    "Para mim, ficou meio confusa a expressão de retorno da função `spades_high`.\n",
    "\n",
    "Acontece o seguinte:\n",
    "\n",
    "Temos 4 cartas de cada numero, por exemplo: \n",
    "- 2 de espadas\n",
    "- 2 de copas\n",
    "- 2 de ouros\n",
    "- 2 de paus\n",
    "\n",
    "Logo, teremos blocos de 4 cartas. Por isso a multiplicação do valor da carta pelo numero de naipes (quatro) \n",
    "\n",
    "`rank_value * 4`\n",
    "\n",
    "Exemplo:\n",
    "\n",
    "2 de espadas = 0 * 4 = 0\n",
    "\n",
    "2 de copas   = 0 * 4 = 0\n",
    "\n",
    "2 de outos   = 0 * 4 = 0\n",
    "\n",
    "2 de paus    = 0 * 4 = 0\n",
    "\n",
    "\n",
    "Agora, precisamos ordenar as cartas de valores iguais, como as 4 cartas de número 2 do exemplo anterior, dentro do bloco. Por isso somar com o valor de cada naipe.\n",
    "\n",
    "\n",
    "`rank_value * len(suits) + suits_value[card.suit] `\n",
    "\n",
    "Valor : Espadas - 3, Copas - 2, Ouros - 1, Paus - 0\n",
    "\n",
    "Exemplo:\n",
    "\n",
    "2 de espadas = 0 * 4 = 0 + *3* -> *3*\n",
    "\n",
    "2 de copas   = 0 * 4 = 0 + *2* -> *2*\n",
    "\n",
    "2 de ouros   = 0 * 4 = 0 + *1* -> *1*\n",
    "\n",
    "2 de paus    = 0 * 4 = 0 + *0* -> *0*\n",
    "\n",
    "\n",
    "Pronto, o primeiro bloco está ordenado! Genial né?\n"
   ]
  },
  {
   "cell_type": "code",
   "execution_count": 44,
   "id": "1278521f",
   "metadata": {},
   "outputs": [
    {
     "name": "stdout",
     "output_type": "stream",
     "text": [
      "Card(rank='2', suit='clubs')\n",
      "Card(rank='2', suit='diamonds')\n",
      "Card(rank='2', suit='hearts')\n",
      "Card(rank='2', suit='spades')\n",
      "Card(rank='3', suit='clubs')\n",
      "Card(rank='3', suit='diamonds')\n",
      "Card(rank='3', suit='hearts')\n",
      "Card(rank='3', suit='spades')\n",
      "Card(rank='4', suit='clubs')\n",
      "Card(rank='4', suit='diamonds')\n",
      "Card(rank='4', suit='hearts')\n",
      "Card(rank='4', suit='spades')\n",
      "Card(rank='5', suit='clubs')\n",
      "Card(rank='5', suit='diamonds')\n",
      "Card(rank='5', suit='hearts')\n",
      "Card(rank='5', suit='spades')\n",
      "Card(rank='6', suit='clubs')\n",
      "Card(rank='6', suit='diamonds')\n",
      "Card(rank='6', suit='hearts')\n",
      "Card(rank='6', suit='spades')\n",
      "Card(rank='7', suit='clubs')\n",
      "Card(rank='7', suit='diamonds')\n",
      "Card(rank='7', suit='hearts')\n",
      "Card(rank='7', suit='spades')\n",
      "Card(rank='8', suit='clubs')\n",
      "Card(rank='8', suit='diamonds')\n",
      "Card(rank='8', suit='hearts')\n",
      "Card(rank='8', suit='spades')\n",
      "Card(rank='9', suit='clubs')\n",
      "Card(rank='9', suit='diamonds')\n",
      "Card(rank='9', suit='hearts')\n",
      "Card(rank='9', suit='spades')\n",
      "Card(rank='10', suit='clubs')\n",
      "Card(rank='10', suit='diamonds')\n",
      "Card(rank='10', suit='hearts')\n",
      "Card(rank='10', suit='spades')\n",
      "Card(rank='J', suit='clubs')\n",
      "Card(rank='J', suit='diamonds')\n",
      "Card(rank='J', suit='hearts')\n",
      "Card(rank='J', suit='spades')\n",
      "Card(rank='Q', suit='clubs')\n",
      "Card(rank='Q', suit='diamonds')\n",
      "Card(rank='Q', suit='hearts')\n",
      "Card(rank='Q', suit='spades')\n",
      "Card(rank='K', suit='clubs')\n",
      "Card(rank='K', suit='diamonds')\n",
      "Card(rank='K', suit='hearts')\n",
      "Card(rank='K', suit='spades')\n",
      "Card(rank='A', suit='clubs')\n",
      "Card(rank='A', suit='diamonds')\n",
      "Card(rank='A', suit='hearts')\n",
      "Card(rank='A', suit='spades')\n"
     ]
    }
   ],
   "source": [
    "deck = FrenchDeck()\n",
    "suit_values = dict(spades=3,hearts=2,diamonds=1,clubs=0)\n",
    "\n",
    "def spades_high(card):\n",
    "      # ranks = [2,3,4,5,6,7,8,9,10,J,Q,K]\n",
    "      # Pega o indice do item na lista ranks da classe frenchDeck para cada numero de carta\n",
    "      # no baralho.\n",
    "      # Ex. Priemeira carta: 2 de espadas Índice 0\n",
    "      #     Segunda carta:   3 de espadas índice 1\n",
    "     rank_value = FrenchDeck.ranks.index(card.rank)\n",
    "\n",
    "     #Retorna o Índice do valor da carta na lista X quantidade de naipes X valor de cada naipe\n",
    "     \n",
    "     # Ex. 2 de espadas -> 0 X 4 + 3 = 3     2 de copas -> 0 X 4 + 2 = 2    2 de ouro -> 0 X 4 + 1 = 1  2 de paus -> 0 X 4 + 0 = 0\n",
    "     #     3 de espadas -> 1 X 4 + 3 = 7     3 de copas -> 1 X 4 + 2 = 6    3 de ouro -> 1 X 4 + 1 = 5  3 de paus -> 1 X 4 + 0 = 4\n",
    "     #     4 de espadas -> 2 X 4 + 3 = 11    4 de copas -> 2 X 4 + 2 = 10   4 de ouro -> 2 X 4 + 1 = 9  4 de paus -> 2 X 4 + 0 = 8\n",
    "     \n",
    "     return rank_value * len(suit_values) + suit_values[card.suit]\n",
    "\n",
    "\n",
    "for card in sorted(deck, key=spades_high):\n",
    "    print(card)\n",
    "    "
   ]
  },
  {
   "cell_type": "code",
   "execution_count": 43,
   "id": "8d65d91d",
   "metadata": {},
   "outputs": [
    {
     "name": "stdout",
     "output_type": "stream",
     "text": [
      "52\n",
      "Card(rank='3', suit='spades')\n"
     ]
    }
   ],
   "source": [
    "print(len(deck))\n",
    "\n",
    "print(deck[1])"
   ]
  }
 ],
 "metadata": {
  "kernelspec": {
   "display_name": ".venv",
   "language": "python",
   "name": "python3"
  },
  "language_info": {
   "codemirror_mode": {
    "name": "ipython",
    "version": 3
   },
   "file_extension": ".py",
   "mimetype": "text/x-python",
   "name": "python",
   "nbconvert_exporter": "python",
   "pygments_lexer": "ipython3",
   "version": "3.13.7"
  }
 },
 "nbformat": 4,
 "nbformat_minor": 5
}
