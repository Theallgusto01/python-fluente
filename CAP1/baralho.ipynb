{
 "cells": [
  {
   "cell_type": "markdown",
   "id": "2993ab67",
   "metadata": {},
   "source": [
    "### Ordenamento"
   ]
  },
  {
   "cell_type": "markdown",
   "id": "318f2c62",
   "metadata": {},
   "source": [
    "Para mim, ficou meio confusa a expressão de retorno da função `spades_high`.\n",
    "\n",
    "Acontece o seguinte:\n",
    "\n",
    "Temos 4 cartas de cada numero, por exemplo: \n",
    "- 2 de espadas\n",
    "- 2 de copas\n",
    "- 2 de ouros\n",
    "- 2 de paus\n",
    "\n",
    "Logo, teremos blocos de 4 cartas. Por isso a multiplicação do valor da carta pelo numero de naipes (quatro) \n",
    "\n",
    "`rank_value * 4`\n",
    "\n",
    "Exemplo:\n",
    "\n",
    "2 de espadas = 0 * 4 = 0\n",
    "\n",
    "2 de copas   = 0 * 4 = 0\n",
    "\n",
    "2 de outos   = 0 * 4 = 0\n",
    "\n",
    "2 de paus    = 0 * 4 = 0\n",
    "\n",
    "\n",
    "Agora, precisamos ordenar as cartas de valores iguais, como as 4 cartas de número 2 do exemplo anterior, dentro do bloco. Por isso somar com o valor de cada naipe.\n",
    "\n",
    "\n",
    "`rank_value * len(suits) + suits_value[card.suit] `\n",
    "\n",
    "Valor : Espadas - 3, Copas - 2, Ouros - 1, Paus - 0\n",
    "\n",
    "Exemplo:\n",
    "\n",
    "2 de espadas = 0 * 4 = 0 + *3* -> *3*\n",
    "\n",
    "2 de copas   = 0 * 4 = 0 + *2* -> *2*\n",
    "\n",
    "2 de ouros   = 0 * 4 = 0 + *1* -> *1*\n",
    "\n",
    "2 de paus    = 0 * 4 = 0 + *0* -> *0*\n",
    "\n",
    "\n",
    "Pronto, o primeiro bloco está ordenado! Genial né?\n"
   ]
  },
  {
   "cell_type": "code",
   "execution_count": 3,
   "id": "4b998004",
   "metadata": {},
   "outputs": [
    {
     "ename": "NameError",
     "evalue": "name 'FrenchDeck' is not defined",
     "output_type": "error",
     "traceback": [
      "\u001b[31m---------------------------------------------------------------------------\u001b[39m",
      "\u001b[31mNameError\u001b[39m                                 Traceback (most recent call last)",
      "\u001b[36mCell\u001b[39m\u001b[36m \u001b[39m\u001b[32mIn[3]\u001b[39m\u001b[32m, line 1\u001b[39m\n\u001b[32m----> \u001b[39m\u001b[32m1\u001b[39m deck = \u001b[43mFrenchDeck\u001b[49m()\n\u001b[32m      2\u001b[39m suit_values = \u001b[38;5;28mdict\u001b[39m(spades=\u001b[32m3\u001b[39m,hearts=\u001b[32m2\u001b[39m,diamonds=\u001b[32m1\u001b[39m,clubs=\u001b[32m0\u001b[39m)\n\u001b[32m      4\u001b[39m \u001b[38;5;28;01mdef\u001b[39;00m\u001b[38;5;250m \u001b[39m\u001b[34mspades_high\u001b[39m(card):\n\u001b[32m      5\u001b[39m       \u001b[38;5;66;03m# ranks = [2,3,4,5,6,7,8,9,10,J,Q,K]\u001b[39;00m\n\u001b[32m      6\u001b[39m       \u001b[38;5;66;03m# Pega o indice do item na lista ranks da classe frenchDeck para cada numero de carta\u001b[39;00m\n\u001b[32m      7\u001b[39m       \u001b[38;5;66;03m# no baralho.\u001b[39;00m\n\u001b[32m      8\u001b[39m       \u001b[38;5;66;03m# Ex. Priemeira carta: 2 de espadas Índice 0\u001b[39;00m\n\u001b[32m      9\u001b[39m       \u001b[38;5;66;03m#     Segunda carta:   3 de espadas índice 1\u001b[39;00m\n",
      "\u001b[31mNameError\u001b[39m: name 'FrenchDeck' is not defined"
     ]
    }
   ],
   "source": [
    "deck = FrenchDeck()\n",
    "suit_values = dict(spades=3,hearts=2,diamonds=1,clubs=0)\n",
    "\n",
    "def spades_high(card):\n",
    "      # ranks = [2,3,4,5,6,7,8,9,10,J,Q,K]\n",
    "      # Pega o indice do item na lista ranks da classe frenchDeck para cada numero de carta\n",
    "      # no baralho.\n",
    "      # Ex. Priemeira carta: 2 de espadas Índice 0\n",
    "      #     Segunda carta:   3 de espadas índice 1\n",
    "     rank_value = FrenchDeck.ranks.index(card.rank)\n",
    "\n",
    "     #Retorna o Índice do valor da carta na lista X quantidade de naipes X valor de cada naipe\n",
    "     \n",
    "     # Ex. 2 de espadas -> 0 X 4 + 3 = 3     2 de copas -> 0 X 4 + 2 = 2    2 de ouro -> 0 X 4 + 1 = 1  2 de paus -> 0 X 4 + 0 = 0\n",
    "     #     3 de espadas -> 1 X 4 + 3 = 7     3 de copas -> 1 X 4 + 2 = 6    3 de ouro -> 1 X 4 + 1 = 5  3 de paus -> 1 X 4 + 0 = 4\n",
    "     #     4 de espadas -> 2 X 4 + 3 = 11    4 de copas -> 2 X 4 + 2 = 10   4 de ouro -> 2 X 4 + 1 = 9  4 de paus -> 2 X 4 + 0 = 8\n",
    "     \n",
    "     return rank_value * len(suit_values) + suit_values[card.suit]\n",
    "\n",
    "\n",
    "for card in sorted(deck, key=spades_high):\n",
    "    print(card)\n",
    "    "
   ]
  },
  {
   "cell_type": "code",
   "execution_count": null,
   "id": "676fb3b9",
   "metadata": {},
   "outputs": [
    {
     "ename": "TypeError",
     "evalue": "object of type 'FrenchDeck' has no len()",
     "output_type": "error",
     "traceback": [
      "\u001b[31m---------------------------------------------------------------------------\u001b[39m",
      "\u001b[31mTypeError\u001b[39m                                 Traceback (most recent call last)",
      "\u001b[36mCell\u001b[39m\u001b[36m \u001b[39m\u001b[32mIn[12]\u001b[39m\u001b[32m, line 1\u001b[39m\n\u001b[32m----> \u001b[39m\u001b[32m1\u001b[39m \u001b[38;5;28mprint\u001b[39m(\u001b[38;5;28;43mlen\u001b[39;49m\u001b[43m(\u001b[49m\u001b[43mdeck\u001b[49m\u001b[43m)\u001b[49m)\n",
      "\u001b[31mTypeError\u001b[39m: object of type 'FrenchDeck' has no len()"
     ]
    }
   ],
   "source": [
    "print(len(deck))"
   ]
  }
 ],
 "metadata": {
  "kernelspec": {
   "display_name": ".venv",
   "language": "python",
   "name": "python3"
  },
  "language_info": {
   "codemirror_mode": {
    "name": "ipython",
    "version": 3
   },
   "file_extension": ".py",
   "mimetype": "text/x-python",
   "name": "python",
   "nbconvert_exporter": "python",
   "pygments_lexer": "ipython3",
   "version": "3.13.5"
  }
 },
 "nbformat": 4,
 "nbformat_minor": 5
}
