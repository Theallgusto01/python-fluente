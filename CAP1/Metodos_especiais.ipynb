{
 "cells": [
  {
   "cell_type": "markdown",
   "id": "9e11229b",
   "metadata": {},
   "source": [
    "# 1.2 Métodos Especiais"
   ]
  },
  {
   "cell_type": "markdown",
   "id": "22505b2a",
   "metadata": {},
   "source": [
    "Geralmente não devemos fazer chamadas a métodos especiais. O único método especial comumente chamado é `__init__`"
   ]
  },
  {
   "cell_type": "markdown",
   "id": "6961419c",
   "metadata": {},
   "source": [
    "### Emulando tipos numéricos"
   ]
  },
  {
   "cell_type": "markdown",
   "id": "554107ac",
   "metadata": {},
   "source": []
  },
  {
   "cell_type": "code",
   "execution_count": null,
   "id": "3d38df3e",
   "metadata": {},
   "outputs": [],
   "source": [
    "import math\n",
    "\n",
    "class Vector:\n",
    "\n",
    "    def __init__(self, x, y):\n",
    "        self.x = x\n",
    "        self.y = y\n",
    "    \n",
    "    def __repr__(self):\n",
    "        # !r dentro da f-string aparentemente chama o repr para x e y\n",
    "        return f'Vector({self.x!r}, {self.y!r})'\n",
    "        \n",
    "    def __abs__(self):\n",
    "        # math.hypot para calcular a hipotenusa a partir de 2 catetos\n",
    "        return math.hypot(self.x, self.y)\n",
    "        # retorna um novo objeto Vector com somando dois vetores\n",
    "    def __add__(self, vetor):\n",
    "        return Vector(self.x+vetor.x, self.y+vetor.y)\n",
    "    \n",
    "    def __bool__(self):\n",
    "        return bool(abs(self))\n",
    "    \n",
    "    def __mul__(self, scalar):\n",
    "        return Vector(self.x * scalar, self.y * scalar)\n",
    "    "
   ]
  },
  {
   "cell_type": "markdown",
   "id": "84b88a99",
   "metadata": {},
   "source": [
    "A implementação dos métodos especiais permite utilizar operações com nosso objeto"
   ]
  },
  {
   "cell_type": "code",
   "execution_count": 4,
   "id": "6734ea69",
   "metadata": {},
   "outputs": [
    {
     "name": "stdout",
     "output_type": "stream",
     "text": [
      "Vector(30, 40)\n",
      "Vector(31, 41)\n",
      "True\n"
     ]
    }
   ],
   "source": [
    "# Multiplicação\n",
    "vetor = Vector(3,4) * 10\n",
    "# Representação __repr__\n",
    "print(vetor)\n",
    "#Soma \n",
    "print(vetor + Vector(1,1))\n",
    "\n",
    "# Função abs\n",
    "abs(vetor)\n",
    "\n",
    "# Bool\n",
    "\n",
    "if vetor:\n",
    "    print(True)\n",
    "else:\n",
    "    print(False)\n"
   ]
  },
  {
   "cell_type": "markdown",
   "id": "d981fded",
   "metadata": {},
   "source": [
    "## 1.3.2 Representação como String"
   ]
  },
  {
   "cell_type": "markdown",
   "id": "9f7e1ead",
   "metadata": {},
   "source": [
    "O método especial `__repr__` é chamado pela função embutida `repr` para obter a representação do objeto como string. Caso não o objeto não tenha um `__repr__` customizado, retorna uma instancia de vetor como:\n",
    "\n",
    "<Vector object at 0x001234>"
   ]
  },
  {
   "cell_type": "markdown",
   "id": "902b3b53",
   "metadata": {},
   "source": [
    "## 1.3.4 A API de Collection"
   ]
  },
  {
   "cell_type": "code",
   "execution_count": null,
   "id": "be27d2c3",
   "metadata": {},
   "outputs": [],
   "source": []
  },
  {
   "cell_type": "markdown",
   "id": "a73c45c6",
   "metadata": {},
   "source": [
    "## 1.4 Visão geral dos métodos especiais"
   ]
  },
  {
   "cell_type": "markdown",
   "id": "bda306b8",
   "metadata": {},
   "source": []
  },
  {
   "cell_type": "markdown",
   "id": "be99c62f",
   "metadata": {},
   "source": [
    "## 1.5 Porque len não é um método"
   ]
  },
  {
   "cell_type": "markdown",
   "id": "307d0f8d",
   "metadata": {},
   "source": [
    "`len` roda bem mais rápido quando chamado para objetos embutidos do python (list, str, bytearray).Nesses o método `__len__` não é chamado pois os tipos do python possuem um atributo (dentro da struct C) chamado `ob_size`, então quando len(x) é chamado e x é um objeto dos tipos embutidos a função só retorna o valor do campo `ob_size`"
   ]
  }
 ],
 "metadata": {
  "kernelspec": {
   "display_name": ".venv",
   "language": "python",
   "name": "python3"
  },
  "language_info": {
   "codemirror_mode": {
    "name": "ipython",
    "version": 3
   },
   "file_extension": ".py",
   "mimetype": "text/x-python",
   "name": "python",
   "nbconvert_exporter": "python",
   "pygments_lexer": "ipython3",
   "version": "3.13.7"
  }
 },
 "nbformat": 4,
 "nbformat_minor": 5
}
