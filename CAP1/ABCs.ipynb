{
 "cells": [
  {
   "cell_type": "markdown",
   "id": "4bd64383",
   "metadata": {},
   "source": [
    "# Abstract Base Classes"
   ]
  },
  {
   "cell_type": "markdown",
   "id": "f44f6aaa",
   "metadata": {},
   "source": [
    "PEP 3119\n",
    "\n",
    "> "
   ]
  }
 ],
 "metadata": {
  "language_info": {
   "name": "python"
  }
 },
 "nbformat": 4,
 "nbformat_minor": 5
}
