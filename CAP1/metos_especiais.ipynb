{
 "cells": [
  {
   "cell_type": "markdown",
   "id": "9e11229b",
   "metadata": {},
   "source": [
    "# Métodos Especiais"
   ]
  },
  {
   "cell_type": "markdown",
   "id": "22505b2a",
   "metadata": {},
   "source": [
    "Geralmente não devemos fazer chamadas a métodos especiais. O único método especial comumente chamado é `__init__`"
   ]
  },
  {
   "cell_type": "markdown",
   "id": "6961419c",
   "metadata": {},
   "source": [
    "### Emulando tipos numéricos"
   ]
  },
  {
   "cell_type": "markdown",
   "id": "554107ac",
   "metadata": {},
   "source": []
  },
  {
   "cell_type": "code",
   "execution_count": null,
   "id": "3d38df3e",
   "metadata": {},
   "outputs": [],
   "source": [
    "import math\n",
    "\n",
    "class Vector:\n",
    "\n",
    "    def __init__(self, x, y):\n",
    "        self.x = x\n",
    "        self.y = y\n",
    "    \n",
    "    def __repr__(self):\n",
    "        # !r dentro da f-string aparentemente chama o repr para x e y\n",
    "        return f'Vector({self.x!r}, {self.y!r})'\n",
    "        \n",
    "    def __abs__(self):\n",
    "        # math.hypot para calcular a hipotenusa a partir de 2 catetos\n",
    "        return math.hypot(self.x, self.y)\n",
    "        # retorna um novo objeto Vector com somando dois vetores\n",
    "    def __add__(self, vetor):\n",
    "        return Vector(self.x+vetor.x, self.y+vetor.y)\n",
    "    \n",
    "    def __bool__(self):\n",
    "        return bool(abs(self))\n",
    "    \n",
    "    def __mul__(self, scalar):\n",
    "        return Vector(self.x * scalar, self.y * scalar)\n",
    "    "
   ]
  },
  {
   "cell_type": "markdown",
   "id": "84b88a99",
   "metadata": {},
   "source": [
    "A implementação dos métodos especiais permite utilizar operações com nosso objeto"
   ]
  },
  {
   "cell_type": "code",
   "execution_count": null,
   "id": "6734ea69",
   "metadata": {},
   "outputs": [
    {
     "name": "stdout",
     "output_type": "stream",
     "text": [
      "Vector(30, 40)\n",
      "Vector(31, 41)\n",
      "True\n"
     ]
    },
    {
     "ename": "TypeError",
     "evalue": "unsupported operand type(s) for -: 'Vector' and 'Vector'",
     "output_type": "error",
     "traceback": [
      "\u001b[31m---------------------------------------------------------------------------\u001b[39m",
      "\u001b[31mTypeError\u001b[39m                                 Traceback (most recent call last)",
      "\u001b[36mCell\u001b[39m\u001b[36m \u001b[39m\u001b[32mIn[9]\u001b[39m\u001b[32m, line 19\u001b[39m\n\u001b[32m     15\u001b[39m \u001b[38;5;28;01melse\u001b[39;00m:\n\u001b[32m     16\u001b[39m     \u001b[38;5;28mprint\u001b[39m(\u001b[38;5;28;01mFalse\u001b[39;00m)\n\u001b[32m---> \u001b[39m\u001b[32m19\u001b[39m \u001b[43mvetor\u001b[49m\u001b[43m \u001b[49m\u001b[43m-\u001b[49m\u001b[43m \u001b[49m\u001b[43mVector\u001b[49m\u001b[43m(\u001b[49m\u001b[32;43m5\u001b[39;49m\u001b[43m,\u001b[49m\u001b[32;43m7\u001b[39;49m\u001b[43m)\u001b[49m\n",
      "\u001b[31mTypeError\u001b[39m: unsupported operand type(s) for -: 'Vector' and 'Vector'"
     ]
    }
   ],
   "source": [
    "# Multiplicação\n",
    "vetor = Vector(3,4) * 10\n",
    "# Representação __repr__\n",
    "print(vetor)\n",
    "#Soma \n",
    "print(vetor + Vector(1,1))\n",
    "\n",
    "# Função abs\n",
    "abs(vetor)\n",
    "\n",
    "# Bool\n",
    "\n",
    "if vetor:\n",
    "    print(True)\n",
    "else:\n",
    "    print(False)\n",
    "\n",
    "\n",
    "\n",
    "\n"
   ]
  }
 ],
 "metadata": {
  "kernelspec": {
   "display_name": ".venv",
   "language": "python",
   "name": "python3"
  },
  "language_info": {
   "codemirror_mode": {
    "name": "ipython",
    "version": 3
   },
   "file_extension": ".py",
   "mimetype": "text/x-python",
   "name": "python",
   "nbconvert_exporter": "python",
   "pygments_lexer": "ipython3",
   "version": "3.13.5"
  }
 },
 "nbformat": 4,
 "nbformat_minor": 5
}
