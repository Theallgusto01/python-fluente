{
 "cells": [
  {
   "cell_type": "markdown",
   "id": "76e1c23f",
   "metadata": {},
   "source": [
    "## Sintaxe das Strings de Formato"
   ]
  },
  {
   "cell_type": "markdown",
   "id": "aa34bca1",
   "metadata": {},
   "source": [
    "As strings de formato contém \"campos de substituição\" entre chaves `{}` "
   ]
  },
  {
   "cell_type": "code",
   "execution_count": 6,
   "id": "cb85be8b",
   "metadata": {},
   "outputs": [
    {
     "name": "stdout",
     "output_type": "stream",
     "text": [
      ":-] e 1\n"
     ]
    }
   ],
   "source": [
    "print(\"{} e {}\".format(':-]',1, 2,3,4))"
   ]
  }
 ],
 "metadata": {
  "kernelspec": {
   "display_name": ".venv",
   "language": "python",
   "name": "python3"
  },
  "language_info": {
   "codemirror_mode": {
    "name": "ipython",
    "version": 3
   },
   "file_extension": ".py",
   "mimetype": "text/x-python",
   "name": "python",
   "nbconvert_exporter": "python",
   "pygments_lexer": "ipython3",
   "version": "3.13.5"
  }
 },
 "nbformat": 4,
 "nbformat_minor": 5
}
