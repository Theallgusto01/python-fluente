{
 "cells": [
  {
   "cell_type": "markdown",
   "id": "76e1c23f",
   "metadata": {},
   "source": [
    "## Sintaxe das Strings de Formato"
   ]
  },
  {
   "cell_type": "markdown",
   "id": "aa34bca1",
   "metadata": {},
   "source": [
    "As strings de formato contém \"campos de substituição\" entre chaves `{}` "
   ]
  },
  {
   "cell_type": "code",
   "execution_count": 6,
   "id": "cb85be8b",
   "metadata": {},
   "outputs": [
    {
     "name": "stdout",
     "output_type": "stream",
     "text": [
      ":-] e 1\n"
     ]
    }
   ],
   "source": [
    "print(\"{} e {}\".format(':-]',1, 2,3,4))"
   ]
  },
  {
   "cell_type": "markdown",
   "id": "4f7242c9",
   "metadata": {},
   "source": [
    "\n",
    "\n",
    "### Sintaxe do campo de substituição:\n",
    "\n",
    "{nome_do_campo!conversor:format_espec}\n"
   ]
  },
  {
   "cell_type": "code",
   "execution_count": 17,
   "id": "9a2b35a2",
   "metadata": {},
   "outputs": [
    {
     "name": "stdout",
     "output_type": "stream",
     "text": [
      "Thiago e 23\n",
      "6 e 9\n",
      "nome: Thiago e idade: 22\n"
     ]
    }
   ],
   "source": [
    "# O nome do campo pode ser uma palavra chave ou um número\n",
    "\n",
    "#Palavra chave\n",
    "print(\"{nome} e {idade}\".format(nome=\"Thiago\", idade=23))\n",
    "\n",
    "#Número\n",
    "print(\"{1} e {4}\".format(5,6,7,8,9,10,11))\n",
    "\n",
    "#Formatação antiga usando %\n",
    "print(\"nome: %s e idade: %s\" %(\"Thiago\", \"22\"))\n",
    "\n"
   ]
  },
  {
   "cell_type": "markdown",
   "id": "ced5a519",
   "metadata": {},
   "source": [
    "### Conversões"
   ]
  },
  {
   "cell_type": "code",
   "execution_count": 44,
   "id": "0ce45c64",
   "metadata": {},
   "outputs": [],
   "source": [
    "class Pessoa:\n",
    "\n",
    "    def __init__(self,nome,idade):\n",
    "        self.nome = nome\n",
    "        self.idade = idade\n",
    "\n",
    "    \n",
    "    def __repr__(self):\n",
    "        # O Operador !r chama repr() para o objeto\n",
    "        return f'A pesssoa {self.nome!r} tem {self.idade!r} anos!'\n",
    "        # !s chama str()\n",
    "        #return f'A pesssoa {self.nome!s} tem {self.idade!s} anos!\n",
    "        #Faz escape de caracteres que não pertencem à tabela ascii, como letras acentuadas\n",
    "        #return f'A pesssoa {self.nome!a} tem {self.idade!a} anos!'\n",
    "    "
   ]
  },
  {
   "cell_type": "code",
   "execution_count": 45,
   "id": "3216cdf5",
   "metadata": {},
   "outputs": [
    {
     "name": "stdout",
     "output_type": "stream",
     "text": [
      "A pesssoa 'Thiago' tem 22 anos!\n",
      "A pesssoa 'Júlio' tem 37 anos!\n"
     ]
    }
   ],
   "source": [
    "p1 = Pessoa(\"Thiago\", 22)\n",
    "p2 = Pessoa(\"Júlio\", 37)\n",
    "\n",
    "print(p1)\n",
    "print(p2)"
   ]
  }
 ],
 "metadata": {
  "kernelspec": {
   "display_name": ".venv",
   "language": "python",
   "name": "python3"
  },
  "language_info": {
   "codemirror_mode": {
    "name": "ipython",
    "version": 3
   },
   "file_extension": ".py",
   "mimetype": "text/x-python",
   "name": "python",
   "nbconvert_exporter": "python",
   "pygments_lexer": "ipython3",
   "version": "3.13.7"
  }
 },
 "nbformat": 4,
 "nbformat_minor": 5
}
