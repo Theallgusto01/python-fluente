{
 "cells": [
  {
   "cell_type": "markdown",
   "id": "e6a09890",
   "metadata": {},
   "source": [
    "# Empacotamento e Desempacotamento em Python\n",
    "\n",
    "Pythom proporciona o conceito de empacotamento e desenpacotamento, que nos permite manipular argumentos de tamanho variável com eficiência."
   ]
  },
  {
   "cell_type": "markdown",
   "id": "c178c000",
   "metadata": {},
   "source": [
    "## Empacotando argumentos\n",
    "\n",
    "Empacotamento permite que multiplos valores sejam combinados em um único parâmetro usando * (para tuplas e listas) e ** (para dicionários)\n",
    "\n",
    "- `*args` (argumentos não nomeados): Empacota multipos argumentos posicionais em uma tupla;\n",
    "- `**kwargs` (argumentos nomeados): Empacota multiplos argumentos nomeados em um dicionario.\n",
    "\n",
    "### Empacotando com `*args`\n",
    "\n",
    "O operador `*` permite passar multiplos argumentos para uma função e empacotá-los em uma tupla."
   ]
  },
  {
   "cell_type": "code",
   "execution_count": null,
   "id": "15aa7f85",
   "metadata": {},
   "outputs": [
    {
     "name": "stdout",
     "output_type": "stream",
     "text": [
      "Argumentos empacotados (1, 2, 3, 'cheeseburguer')\n"
     ]
    }
   ],
   "source": [
    "def exemplo(*args):\n",
    "    print(\"Argumentos empacotados\", args)\n",
    "\n",
    "exemplo(1, 2, 3, \"cheeseburguer\")\n",
    "\n",
    "# A função recebe qualquer número de argumentos\n",
    "# *args empacota todos os argumentos em uma tupla"
   ]
  },
  {
   "cell_type": "markdown",
   "id": "74459a89",
   "metadata": {},
   "source": [
    "### Empacotando com `**kwargs`\n",
    "\n",
    "O operador `**` é usado para coletar multiplos argumentos nomeados em um dicionário."
   ]
  },
  {
   "cell_type": "code",
   "execution_count": null,
   "id": "905f4e7c",
   "metadata": {},
   "outputs": [
    {
     "name": "stdout",
     "output_type": "stream",
     "text": [
      "Argumentos empacotados: {'nome': 'Raimundo', 'idade': 34}\n"
     ]
    }
   ],
   "source": [
    "def exemplo(**kwargs):\n",
    "    print(\"Argumentos empacotados:\", kwargs)\n",
    "\n",
    "\n",
    "exemplo(nome=\"Raimundo\", idade=34)"
   ]
  },
  {
   "cell_type": "markdown",
   "id": "ab638157",
   "metadata": {},
   "source": [
    "## Desempacotando Argumentos"
   ]
  },
  {
   "cell_type": "code",
   "execution_count": null,
   "id": "14b986b4",
   "metadata": {},
   "outputs": [
    {
     "data": {
      "text/plain": [
       "16"
      ]
     },
     "execution_count": 7,
     "metadata": {},
     "output_type": "execute_result"
    }
   ],
   "source": [
    "def soma(a,b,c):\n",
    "    return a+b+c\n",
    "\n",
    "num = (1,5,10)\n",
    "\n",
    "result = soma(*num)\n",
    "\n",
    "# num é desempacotado dentro de a, b, c\n",
    "result"
   ]
  },
  {
   "cell_type": "code",
   "execution_count": 9,
   "id": "b659a798",
   "metadata": {},
   "outputs": [
    {
     "name": "stdout",
     "output_type": "stream",
     "text": [
      "Nome: Adalberto, Idade: 28. País: India\n"
     ]
    }
   ],
   "source": [
    "def info(nome, idade, pais):\n",
    "    print(f\"Nome: {nome}, Idade: {idade}. País: {pais}\")\n",
    "\n",
    "data = {\"nome\": \"Adalberto\", \"idade\": 28, \"pais\": \"India\"}\n",
    "info(**data)"
   ]
  },
  {
   "cell_type": "markdown",
   "id": "2c2e7ab0",
   "metadata": {},
   "source": [
    "### Empacotando e desempacotando ao mesmo tempo"
   ]
  },
  {
   "cell_type": "code",
   "execution_count": 16,
   "id": "ffd83f30",
   "metadata": {},
   "outputs": [
    {
     "name": "stdout",
     "output_type": "stream",
     "text": [
      "Posicionais: (1, 3, 4)\n",
      "Argumento nomeados: {'nome': 'Tuntancamon', 'idade': 27}\n"
     ]
    }
   ],
   "source": [
    "def juntos(*args, **kwargs):\n",
    "    print(\"Posicionais:\", args)\n",
    "    print(\"Argumento nomeados:\", kwargs)\n",
    "\n",
    "\n",
    "juntos(1,3,4,nome=\"Tuntancamon\",idade=27)"
   ]
  }
 ],
 "metadata": {
  "kernelspec": {
   "display_name": ".venv",
   "language": "python",
   "name": "python3"
  },
  "language_info": {
   "codemirror_mode": {
    "name": "ipython",
    "version": 3
   },
   "file_extension": ".py",
   "mimetype": "text/x-python",
   "name": "python",
   "nbconvert_exporter": "python",
   "pygments_lexer": "ipython3",
   "version": "3.13.5"
  }
 },
 "nbformat": 4,
 "nbformat_minor": 5
}
