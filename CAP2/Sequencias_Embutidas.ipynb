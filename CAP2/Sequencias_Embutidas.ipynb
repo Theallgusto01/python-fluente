{
 "cells": [
  {
   "cell_type": "markdown",
   "id": "51d8a8fa",
   "metadata": {},
   "source": [
    "# 2.2 Uma visão geral das sequências Embutidas"
   ]
  },
  {
   "cell_type": "markdown",
   "id": "548653c6",
   "metadata": {},
   "source": [
    "Sequências Contêiner - Podem armazenar tipos diferentes incluindo container aninhados e objetos de qualquer tipo -> list, tuple e collections.deque\n",
    "\n",
    "Sequências Pllanas - Armazenam itens de algum tipo simples, mas não outras coleções e ou referências a objetos -> str, bytes e array.array\n",
    "\n",
    "- Sequencias contêiner guardam referencias para os objetos que armazenam, enquanto seguencias planas armazenam os valores no próprio estado de memória\n",
    "\n",
    "\n",
    "*Outra forma de agrupar sequencias*\n",
    "\n",
    "Sequências Mutáveis -> list, bytearrey,array.array e collections.deque\n",
    "\n",
    "Sequências Imutáveis -> tuple, str e bytes\n",
    "\n"
   ]
  },
  {
   "cell_type": "code",
   "execution_count": null,
   "id": "9e97a204",
   "metadata": {},
   "outputs": [],
   "source": [
    "from collections import abc\n",
    "\n",
    "print(issubclass(tuple, abc.Sequence))\n",
    "print(issubclass(list, abc.MutableSequence))\n"
   ]
  },
  {
   "cell_type": "markdown",
   "id": "8ce7a8fe",
   "metadata": {},
   "source": [
    "## 2.3.1 Compreensões de lista e legibilidade"
   ]
  },
  {
   "cell_type": "code",
   "execution_count": null,
   "id": "3296a960",
   "metadata": {},
   "outputs": [],
   "source": [
    "simbolos = ('abcde')\n",
    "\n",
    "# ord() retorna o unicode para o caractere fornecido\n",
    "codes = [ord(simbolo) for simbolo in simbolos]\n",
    "\n",
    "codes"
   ]
  },
  {
   "cell_type": "markdown",
   "id": "e0e40934",
   "metadata": {},
   "source": [
    "> Em python, quebras de linha são ignoradas dentro de pares de `{}`, `[]` e `()`. Então podemos fazer listcomprehension em várias linhas de python (O que não é recomendado)\n",
    "> Se a compreensão de lista tomar mais de uma linha, é melhor quebrá-la e transformar num `for` normal! "
   ]
  },
  {
   "cell_type": "markdown",
   "id": "a1160508",
   "metadata": {},
   "source": [
    "#### Escopo local dentro de compreensões e expressões geradoras\n",
    "\n",
    "1. X não é alterado\n",
    "2. Last permanece\n",
    "3. c não permanece"
   ]
  },
  {
   "cell_type": "code",
   "execution_count": null,
   "id": "9cb071aa",
   "metadata": {},
   "outputs": [],
   "source": [
    "x = 'ABCDE'\n",
    "\n",
    "codes = [ord(x) for x in x]\n",
    "\n",
    "print(x) # 1\n",
    "print(codes)\n",
    "\n",
    "\n",
    "codes = [last := ord(c) for c in x]\n",
    "print(codes)\n",
    "print(last) # 2\n",
    "\n",
    "#print(c) # 3\n",
    "\n"
   ]
  },
  {
   "cell_type": "markdown",
   "id": "07f7c2f0",
   "metadata": {},
   "source": [
    "*Operador morsa no python*\n",
    "\n",
    "> Permite atribuir um valor a uma variável dentro de uma expressão, permitindo execultar a expressão e atribuir ao mesmo tempo\n",
    "\n",
    "Ex:"
   ]
  },
  {
   "cell_type": "code",
   "execution_count": null,
   "id": "fdd8478b",
   "metadata": {},
   "outputs": [],
   "source": [
    "print(valor := \"Meu nome é Thiago\")\n",
    "\n",
    "print(valor)\n"
   ]
  },
  {
   "cell_type": "code",
   "execution_count": null,
   "id": "ba1350f6",
   "metadata": {},
   "outputs": [],
   "source": [
    "if(nome := input(\"Digite seu nome: \")) and len(nome) > 5:\n",
    "    print(\"É um nome grande!\")"
   ]
  },
  {
   "cell_type": "markdown",
   "id": "c2449212",
   "metadata": {},
   "source": [
    "#### Listcomps vs. map e filter\n",
    "\n",
    "Listcomps fazem tudo que as funções map e filter fazem, sem os malabarismos exigidos pela funcionalidade limitada do `lambda` do Python"
   ]
  },
  {
   "cell_type": "code",
   "execution_count": null,
   "id": "eb90410e",
   "metadata": {},
   "outputs": [],
   "source": [
    "symbols = '!@#$&*()£¢¬'\n",
    "beyond_ascii = [ord(s) for s in symbols if ord(s) > 127]\n",
    "print(beyond_ascii)\n",
    "\n",
    "# Map executa uma função para cada item em um iterável\n",
    "#Filter retorna um iterável onde os items são filtrados através de uma função para saber se são aceitos ou não.\n",
    "\n",
    "# Filter pega os resultados da função lambda e testa com a lista de unicodes retornados pelo map\n",
    "\n",
    "beyond_ascii = list(filter(lambda c: c > 127,\n",
    "                           map(ord, symbols)))\n",
    "\n",
    "print(beyond_ascii)\n"
   ]
  },
  {
   "cell_type": "markdown",
   "id": "8da8bea7",
   "metadata": {},
   "source": [
    "## 2.3.3 Produtos Cartesianos\n",
    "\n",
    "Listcomps podem criar listas a partir do produto cartesianos de dois ou mais iteráveis. \n",
    "\n",
    "Ex. Supondo que precisamos criar uma lista de camisas disponíveis de 2 cores e 3 tamanhos"
   ]
  },
  {
   "cell_type": "code",
   "execution_count": null,
   "id": "7584b389",
   "metadata": {},
   "outputs": [],
   "source": [
    "cores = ['preta', 'branca']\n",
    "tamanhos = ['P', 'M', 'G']\n",
    "camisas = [(cor, tamanho) for cor in cores for tamanho in tamanhos]\n",
    "\n",
    "camisas"
   ]
  },
  {
   "cell_type": "markdown",
   "id": "def80e87",
   "metadata": {},
   "source": [
    "Isso gera tuplas ordenadas por cor, depois por tamanho.\n"
   ]
  },
  {
   "cell_type": "code",
   "execution_count": null,
   "id": "55cc0aeb",
   "metadata": {},
   "outputs": [],
   "source": [
    "for cor in cores:\n",
    "    for tamanho in tamanhos:\n",
    "        print((cor, tamanho))"
   ]
  },
  {
   "cell_type": "code",
   "execution_count": null,
   "id": "db23c032",
   "metadata": {},
   "outputs": [],
   "source": [
    "camisas = [(cor, tamanho) for tamanho in tamanhos for cor in cores]\n",
    "\n",
    "camisas"
   ]
  },
  {
   "cell_type": "markdown",
   "id": "9af0a120",
   "metadata": {},
   "source": [
    "## 2.3.4 Expressões geradores"
   ]
  },
  {
   "cell_type": "markdown",
   "id": "547e38a2",
   "metadata": {},
   "source": [
    "Listcomps geram listas. Para gerar tuplas, arrays e outros tipos de sequências, usamos as expressões geradoras. É possível usar uma listcomp também, mas as genexp economiza memória, pois ela produz itens um de cada vez usando o protocolo iterador em vez de criar uma lista inteira apenas para alimentar outro construtor."
   ]
  },
  {
   "cell_type": "code",
   "execution_count": null,
   "id": "20f70028",
   "metadata": {},
   "outputs": [],
   "source": [
    "simbs = '£¢!@#$*'\n",
    "\n",
    "print(tuple(ord(symbol) for symbol in simbs))\n",
    "\n",
    "import array\n",
    "\n",
    "array.array('I', (ord(symbol) for symbol in simbs))\n"
   ]
  },
  {
   "cell_type": "code",
   "execution_count": null,
   "id": "a22f1105",
   "metadata": {},
   "outputs": [],
   "source": [
    "cores = ['preta', 'branca']\n",
    "tamanhos = ['P', 'M', 'G']\n",
    "\n",
    "for tshirt in (f'{c} {t}' for c in cores for t in tamanhos):\n",
    "    print(tshirt)"
   ]
  },
  {
   "cell_type": "markdown",
   "id": "ab1309a7",
   "metadata": {},
   "source": [
    "A expressão geradora cria um item por vez; uma lista com todas as seis variações de camiseta nunca é criada nesse exemplo."
   ]
  },
  {
   "cell_type": "markdown",
   "id": "dccdf902",
   "metadata": {},
   "source": [
    "## 2.4 Tuplas não são apenas listas imutáveis"
   ]
  },
  {
   "cell_type": "markdown",
   "id": "f6970ed6",
   "metadata": {},
   "source": [
    "Tuplas podem ser lista imutáveis ou registros de campos sem nome.\n",
    "\n",
    "> Utilizamos o desempacotamento, evitando usar índices, segundo o autor."
   ]
  },
  {
   "cell_type": "markdown",
   "id": "d8b400d7",
   "metadata": {},
   "source": [
    "### Tuplas como registros"
   ]
  },
  {
   "cell_type": "code",
   "execution_count": null,
   "id": "0464b032",
   "metadata": {},
   "outputs": [],
   "source": [
    "lax_coordenadas = (33.9425, -118.408056)\n",
    "\n",
    "# Implementado na PEP 515, o underscore _ serve para separar visualmente os números;\n",
    "\n",
    "cidade, ano, pop, chg, area = ('Tokyo', 2003, 32_450, 0.66, 8014)\n",
    "\n",
    "passaportes = [('USA', '31195855'), ('BRA', 'CE342567'), ('ESP', 'XDA205856')]\n",
    "\n",
    "for passaporte in sorted(passaportes):\n",
    "    print('%s/%s' % passaporte)\n",
    "    #print(f'{passaporte[0]}/{passaporte[1]}' )\n",
    "\n",
    "# Desempacotamento -> _ é uma variável descartável, não a utilizamos (dummy variable)\n",
    "for pais, _ in passaportes:\n",
    "    print(pais)"
   ]
  },
  {
   "cell_type": "markdown",
   "id": "69536743",
   "metadata": {},
   "source": [
    "### Tuplas como listas imutáveis\n",
    "\n",
    "Tuplas usam menos memória que uma lista de mesmo tamanho e permite ao python realizar algumas otimizações.\n",
    "\n",
    "\n",
    "> Sobre a imutabilidade das tuplas, elas só se aplicam às referências ali contidas. Referências de uma tupla não podem ser apagadas ou substituidas. Mas se uma das referências apontar para um objeto mutável, e aquele objeto mudar, então o valor da tupla muda"
   ]
  },
  {
   "cell_type": "code",
   "execution_count": null,
   "id": "c21f593c",
   "metadata": {},
   "outputs": [],
   "source": [
    "a = (10, 'alpha', [1,2])\n",
    "b = (10, 'alpha', [1,2])\n",
    "\n",
    "a == b\n",
    "#True\n",
    "b[-1].append(99)\n",
    "\n",
    "a == b \n",
    "#False\n",
    "print(b)\n"
   ]
  },
  {
   "cell_type": "markdown",
   "id": "3563c245",
   "metadata": {},
   "source": [
    "Tuplas com itens mutáveis podem ser fontes de bugs. Se uma tuple contém um item mutável, ela não pode ser uma chave de dicionário ou como elemento em um `set`"
   ]
  },
  {
   "cell_type": "markdown",
   "id": "043b07c0",
   "metadata": {},
   "source": [
    "## Desempacotando sequências e iteráveis\n",
    "\n",
    "O desenpacotamento evita o uso de índices para acessar itens de sequências, o que causa muitos bugs."
   ]
  },
  {
   "cell_type": "markdown",
   "id": "420bcbe4",
   "metadata": {},
   "source": [
    "Atribuição paralela -> Atribuir itens de um iterável a uma tupla de variáveis"
   ]
  },
  {
   "cell_type": "code",
   "execution_count": 31,
   "id": "8eab24f0",
   "metadata": {},
   "outputs": [
    {
     "data": {
      "text/plain": [
       "33.9425"
      ]
     },
     "execution_count": 31,
     "metadata": {},
     "output_type": "execute_result"
    }
   ],
   "source": [
    "lax_coordenadas = (33.9425, -118.408056)\n",
    "latitude, longitude = lax_coordenadas #desempacotamento\n",
    "\n",
    "latitude"
   ]
  },
  {
   "cell_type": "code",
   "execution_count": 32,
   "id": "de094fe6",
   "metadata": {},
   "outputs": [
    {
     "name": "stdout",
     "output_type": "stream",
     "text": [
      "2\n",
      "1\n"
     ]
    }
   ],
   "source": [
    "# Permutar valores de variáveis sem usar variável auxiliar\n",
    "\n",
    "a = 1\n",
    "b = 2\n",
    "\n",
    "b, a = a,b\n",
    "\n",
    "print(a)\n",
    "\n",
    "print(b)\n",
    "\n"
   ]
  },
  {
   "cell_type": "markdown",
   "id": "1c3038e2",
   "metadata": {},
   "source": [
    "Outro exemplo de empacotamento é prefixar um argumento com * ao chamar uma função:"
   ]
  },
  {
   "cell_type": "code",
   "execution_count": 34,
   "id": "2a2b5114",
   "metadata": {},
   "outputs": [
    {
     "name": "stdout",
     "output_type": "stream",
     "text": [
      "2 4\n"
     ]
    }
   ],
   "source": [
    "divmod(20,8) # Retorna a divisão e o resto\n",
    "\n",
    "t = (20,8)\n",
    "\n",
    "divmod(*t)\n",
    "\n",
    "quociente, resto = divmod(*t)\n",
    "\n",
    "print(quociente, resto)"
   ]
  },
  {
   "cell_type": "code",
   "execution_count": 12,
   "id": "d0809bd0",
   "metadata": {},
   "outputs": [
    {
     "data": {
      "text/plain": [
       "'id_ed25519.pub'"
      ]
     },
     "execution_count": 12,
     "metadata": {},
     "output_type": "execute_result"
    }
   ],
   "source": [
    "import os \n",
    "# os.path.split() cria uma tupla (path, last_part) a partir de um caminho do sistema de arquivos\n",
    "_ , filename = os.path.split('/home/thiago/.ssh/id_ed25519.pub')\n",
    "\n",
    "filename"
   ]
  },
  {
   "cell_type": "markdown",
   "id": "7d7b450c",
   "metadata": {},
   "source": [
    "### 2.5.1 Usando o operador `*` para recolher itens em excesso"
   ]
  },
  {
   "cell_type": "code",
   "execution_count": 13,
   "id": "490531b8",
   "metadata": {},
   "outputs": [
    {
     "name": "stdout",
     "output_type": "stream",
     "text": [
      "0 1 [2, 3, 4]\n",
      "3 4 [0, 1, 2]\n"
     ]
    }
   ],
   "source": [
    "a, b, *rest = range(5)\n",
    "\n",
    "print(a, b, rest)\n",
    "\n",
    "*rest, a, b = range(5)\n",
    "\n",
    "print(a, b, rest)"
   ]
  },
  {
   "cell_type": "markdown",
   "id": "7fe7e70c",
   "metadata": {},
   "source": [
    "No contexto da atribuição paralela, o prefixo * pode ser aplicado a exatamente uma variável, mas pode aparecer em qualquer posição:"
   ]
  },
  {
   "cell_type": "code",
   "execution_count": 14,
   "id": "38a902b8",
   "metadata": {},
   "outputs": [
    {
     "name": "stdout",
     "output_type": "stream",
     "text": [
      "0 [1, 2, 3, 4, 5, 6, 7, 8, 9, 10, 11, 12] 13 14\n"
     ]
    }
   ],
   "source": [
    "a , *body, c, d = range(15)\n",
    "\n",
    "print(a, body, c, d)"
   ]
  },
  {
   "cell_type": "markdown",
   "id": "91efd97c",
   "metadata": {},
   "source": [
    "### Desempacotando com * em chamadas de função e sequências literais"
   ]
  },
  {
   "cell_type": "code",
   "execution_count": 20,
   "id": "4ba40e62",
   "metadata": {},
   "outputs": [
    {
     "data": {
      "text/plain": [
       "(1, 2, 3, 4, (93, 4, 5, 6, 7, 8, 9, 10, 11, 12, 13, 14, 15, 16))"
      ]
     },
     "execution_count": 20,
     "metadata": {},
     "output_type": "execute_result"
    }
   ],
   "source": [
    "def fun(a,b,c,d,*rest):\n",
    "    return a, b, c, d, rest\n",
    "\n",
    "# não é possivel usar * mais de uma vez no empacotamento, \n",
    "# mas é possível no desempacotamento em chamadas de função (PEP 448)\n",
    "\n",
    "fun(*[1,2,3,4], 93, *range(4,17))\n"
   ]
  },
  {
   "cell_type": "markdown",
   "id": "6787fb05",
   "metadata": {},
   "source": [
    "O desempacotamento também pode ser utilizado na definição de literais: list, tuple ou set. "
   ]
  },
  {
   "cell_type": "code",
   "execution_count": 30,
   "id": "525c0d82",
   "metadata": {},
   "outputs": [
    {
     "name": "stdout",
     "output_type": "stream",
     "text": [
      "{0, 1, 2, 3, 4, 5, 6, 7}\n"
     ]
    }
   ],
   "source": [
    "*range(4), 4\n",
    "\n",
    "lista = [*range(4), 4]\n",
    "\n",
    "dicio = {*range(4), 4, *(5,6,7)}\n",
    "\n",
    "print(dicio)"
   ]
  },
  {
   "cell_type": "markdown",
   "id": "44e8a8f3",
   "metadata": {},
   "source": [
    "### 2.5.3 Desempacotamento aninhado"
   ]
  },
  {
   "cell_type": "code",
   "execution_count": 41,
   "id": "01bbe0bf",
   "metadata": {},
   "outputs": [
    {
     "name": "stdout",
     "output_type": "stream",
     "text": [
      "                |  latitude | longitude\n",
      "Mexico City     |   19.4333 |  -99.1333\n",
      "New York-Newark |   40.8086 |  -74.0204\n",
      "São Paulo       |  -23.5478 |  -46.6358\n"
     ]
    }
   ],
   "source": [
    "metro_areas = [\n",
    "    ('Tokyo', 'JP', 36.933, (35.689722, 139.691667)),  # (1)\n",
    "    ('Delhi NCR', 'IN', 21.935, (28.613889, 77.208889)),\n",
    "    ('Mexico City', 'MX', 20.142, (19.433333, -99.133333)),\n",
    "    ('New York-Newark', 'US', 20.104, (40.808611, -74.020386)),\n",
    "    ('São Paulo', 'BR', 19.649, (-23.547778, -46.635833)),\n",
    "]\n",
    "\n",
    "def main():\n",
    "    print(f'{\"\":15} | {\"latitude\":>9} | {\"longitude\":>9}')\n",
    "    for name, _, _, (lat, lon) in metro_areas:\n",
    "        if lon <= 0:\n",
    "            print(f'{name:15} | {lat:9.4f} | {lon:9.4f}')\n",
    "\n",
    "\n",
    "if __name__ == '__main__':\n",
    "    main()"
   ]
  }
 ],
 "metadata": {
  "kernelspec": {
   "display_name": ".venv",
   "language": "python",
   "name": "python3"
  },
  "language_info": {
   "codemirror_mode": {
    "name": "ipython",
    "version": 3
   },
   "file_extension": ".py",
   "mimetype": "text/x-python",
   "name": "python",
   "nbconvert_exporter": "python",
   "pygments_lexer": "ipython3",
   "version": "3.13.5"
  }
 },
 "nbformat": 4,
 "nbformat_minor": 5
}
