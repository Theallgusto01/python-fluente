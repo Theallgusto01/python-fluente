{
 "cells": [
  {
   "cell_type": "markdown",
   "id": "51d8a8fa",
   "metadata": {},
   "source": [
    "# 2.2 Uma visão geral das sequências Embutidas"
   ]
  },
  {
   "cell_type": "markdown",
   "id": "548653c6",
   "metadata": {},
   "source": [
    "Sequências Contêiner - Podem armazenar tipos diferentes incluindo container aninhados e objetos de qualquer tipo -> list, tuple e collections.deque\n",
    "\n",
    "Sequências Pllanas - Armazenam itens de algum tipo simples, mas não outras coleções e ou referências a objetos -> str, bytes e array.array\n",
    "\n",
    "- Sequencias contêiner guardam referencias para os objetos que armazenam, enquanto seguencias planas armazenam os valores no próprio estado de memória\n",
    "\n",
    "\n",
    "*Outra forma de agrupar sequencias*\n",
    "\n",
    "Sequências Mutáveis -> list, bytearrey,array.array e collections.deque\n",
    "\n",
    "Sequências Imutáveis -> tuple, str e bytes\n",
    "\n"
   ]
  },
  {
   "cell_type": "code",
   "execution_count": 6,
   "id": "9e97a204",
   "metadata": {},
   "outputs": [
    {
     "name": "stdout",
     "output_type": "stream",
     "text": [
      "True\n",
      "True\n"
     ]
    }
   ],
   "source": [
    "from collections import abc\n",
    "\n",
    "print(issubclass(tuple, abc.Sequence))\n",
    "print(issubclass(list, abc.MutableSequence))\n"
   ]
  },
  {
   "cell_type": "markdown",
   "id": "8ce7a8fe",
   "metadata": {},
   "source": [
    "## 2.3.1 Compreensões de lista e legibilidade"
   ]
  },
  {
   "cell_type": "code",
   "execution_count": null,
   "id": "3296a960",
   "metadata": {},
   "outputs": [
    {
     "data": {
      "text/plain": [
       "[97, 98, 99, 100, 101]"
      ]
     },
     "execution_count": 4,
     "metadata": {},
     "output_type": "execute_result"
    }
   ],
   "source": [
    "simbolos = ('abcde')\n",
    "\n",
    "# ord() retorna o unicode para o caractere fornecido\n",
    "codes = [ord(simbolo) for simbolo in simbolos]\n",
    "\n",
    "codes"
   ]
  },
  {
   "cell_type": "markdown",
   "id": "e0e40934",
   "metadata": {},
   "source": [
    "> Em python, quebras de linha são ignoradas dentro de pares de `{}`, `[]` e `()`. Então podemos fazer listcomprehension em várias linhas de python (O que não é recomendado)\n",
    "> Se a compreensão de lista tomar mais de uma linha, é melhor quebrá-la e transformar num `for` normal! "
   ]
  },
  {
   "cell_type": "markdown",
   "id": "a1160508",
   "metadata": {},
   "source": [
    "#### Escopo local dentro de compreensões e expressões geradoras\n",
    "\n",
    "1. X não é alterado\n",
    "2. Last permanece\n",
    "3. c não permanece"
   ]
  },
  {
   "cell_type": "code",
   "execution_count": null,
   "id": "9cb071aa",
   "metadata": {},
   "outputs": [],
   "source": [
    "x = 'ABCDE'\n",
    "\n",
    "codes = [ord(x) for x in x]\n",
    "\n",
    "print(x) # 1\n",
    "print(codes)\n",
    "\n",
    "\n",
    "codes = [last := ord(c) for c in x]\n",
    "print(codes)\n",
    "print(last) # 2\n",
    "\n",
    "#print(c) # 3\n",
    "\n"
   ]
  },
  {
   "cell_type": "markdown",
   "id": "07f7c2f0",
   "metadata": {},
   "source": [
    "*Operador morsa no python*\n",
    "\n",
    "> Permite atribuir um valor a uma variável dentro de uma expressão, permitindo execultar a expressão e atribuir ao mesmo tempo\n",
    "\n",
    "Ex:"
   ]
  },
  {
   "cell_type": "code",
   "execution_count": null,
   "id": "fdd8478b",
   "metadata": {},
   "outputs": [
    {
     "name": "stdout",
     "output_type": "stream",
     "text": [
      "Meu nome é Thiago\n",
      "Meu nome é Thiago\n"
     ]
    }
   ],
   "source": [
    "print(valor := \"Meu nome é Thiago\")\n",
    "\n",
    "print(valor)\n"
   ]
  },
  {
   "cell_type": "code",
   "execution_count": 13,
   "id": "ba1350f6",
   "metadata": {},
   "outputs": [],
   "source": [
    "if(nome := input(\"Digite seu nome: \")) and len(nome) > 5:\n",
    "    print(\"É um nome grande!\")"
   ]
  },
  {
   "cell_type": "markdown",
   "id": "c2449212",
   "metadata": {},
   "source": [
    "#### Listcomps vs. map e filter\n",
    "\n",
    "Listcomps fazem tudo que as funções map e filter fazem, sem os malabarismos exigidos pela funcionalidade limitada do `lambda` do Python"
   ]
  },
  {
   "cell_type": "code",
   "execution_count": null,
   "id": "eb90410e",
   "metadata": {},
   "outputs": [
    {
     "name": "stdout",
     "output_type": "stream",
     "text": [
      "[163, 162, 172]\n",
      "[163, 162, 172]\n"
     ]
    }
   ],
   "source": [
    "symbols = '!@#$&*()£¢¬'\n",
    "beyond_ascii = [ord(s) for s in symbols if ord(s) > 127]\n",
    "print(beyond_ascii)\n",
    "\n",
    "# Map executa uma função para cada item em um iterável\n",
    "#Filter retorna um iterável onde os items são filtrados através de uma função para saber se são aceitos ou não.\n",
    "\n",
    "# Filter pega os resultados da função lambda e testa com a lista de unicodes retornados pelo map\n",
    "\n",
    "beyond_ascii = list(filter(lambda c: c > 127,\n",
    "                           map(ord, symbols)))\n",
    "\n",
    "print(beyond_ascii)\n"
   ]
  },
  {
   "cell_type": "markdown",
   "id": "8da8bea7",
   "metadata": {},
   "source": [
    "## 2.3.3 Produtos Cartesianos\n",
    "\n",
    "Listcomps podem criar listas a partir do produto cartesianos de dois ou mais iteráveis. \n",
    "\n",
    "Ex. Supondo que precisamos criar uma lista de camisas disponíveis de 2 cores e 3 tamanhos"
   ]
  },
  {
   "cell_type": "code",
   "execution_count": 2,
   "id": "7584b389",
   "metadata": {},
   "outputs": [
    {
     "data": {
      "text/plain": [
       "[('preta', 'P'),\n",
       " ('preta', 'M'),\n",
       " ('preta', 'G'),\n",
       " ('branca', 'P'),\n",
       " ('branca', 'M'),\n",
       " ('branca', 'G')]"
      ]
     },
     "execution_count": 2,
     "metadata": {},
     "output_type": "execute_result"
    }
   ],
   "source": [
    "cores = ['preta', 'branca']\n",
    "tamanhos = ['P', 'M', 'G']\n",
    "camisas = [(cor, tamanho) for cor in cores for tamanho in tamanhos]\n",
    "\n",
    "camisas"
   ]
  },
  {
   "cell_type": "markdown",
   "id": "def80e87",
   "metadata": {},
   "source": [
    "Isso gera tuplas ordenadas por cor, depois por tamanho.\n"
   ]
  },
  {
   "cell_type": "code",
   "execution_count": null,
   "id": "55cc0aeb",
   "metadata": {},
   "outputs": [
    {
     "name": "stdout",
     "output_type": "stream",
     "text": [
      "('preta', 'P')\n",
      "('preta', 'M')\n",
      "('preta', 'G')\n",
      "('branca', 'P')\n",
      "('branca', 'M')\n",
      "('branca', 'G')\n"
     ]
    }
   ],
   "source": [
    "for cor in cores:\n",
    "    for tamanho in tamanhos:\n",
    "        print((cor, tamanho))"
   ]
  },
  {
   "cell_type": "code",
   "execution_count": 6,
   "id": "db23c032",
   "metadata": {},
   "outputs": [
    {
     "data": {
      "text/plain": [
       "[('preta', 'P'),\n",
       " ('branca', 'P'),\n",
       " ('preta', 'M'),\n",
       " ('branca', 'M'),\n",
       " ('preta', 'G'),\n",
       " ('branca', 'G')]"
      ]
     },
     "execution_count": 6,
     "metadata": {},
     "output_type": "execute_result"
    }
   ],
   "source": [
    "camisas = [(cor, tamanho) for tamanho in tamanhos for cor in cores]\n",
    "\n",
    "camisas"
   ]
  },
  {
   "cell_type": "markdown",
   "id": "9af0a120",
   "metadata": {},
   "source": [
    "## 2.3.4 Expressões geradores"
   ]
  },
  {
   "cell_type": "markdown",
   "id": "547e38a2",
   "metadata": {},
   "source": [
    "Listcomps geram listas. Para gerar tuplas, arrays e outros tipos de sequências, usamos as expressões geradoras. É possível usar uma listcomp também, mas as genexp economiza memória, pois ela produz itens um de cada vez usando o protocolo iterador em vez de criar uma lista inteira apenas para alimentar outro construtor."
   ]
  },
  {
   "cell_type": "code",
   "execution_count": 11,
   "id": "20f70028",
   "metadata": {},
   "outputs": [
    {
     "name": "stdout",
     "output_type": "stream",
     "text": [
      "(163, 162, 33, 64, 35, 36, 42)\n"
     ]
    },
    {
     "data": {
      "text/plain": [
       "array('I', [163, 162, 33, 64, 35, 36, 42])"
      ]
     },
     "execution_count": 11,
     "metadata": {},
     "output_type": "execute_result"
    }
   ],
   "source": [
    "simbs = '£¢!@#$*'\n",
    "\n",
    "print(tuple(ord(symbol) for symbol in simbs))\n",
    "\n",
    "import array\n",
    "\n",
    "array.array('I', (ord(symbol) for symbol in simbs))\n"
   ]
  },
  {
   "cell_type": "code",
   "execution_count": 12,
   "id": "a22f1105",
   "metadata": {},
   "outputs": [
    {
     "name": "stdout",
     "output_type": "stream",
     "text": [
      "preta P\n",
      "preta M\n",
      "preta G\n",
      "branca P\n",
      "branca M\n",
      "branca G\n"
     ]
    }
   ],
   "source": [
    "cores = ['preta', 'branca']\n",
    "tamanhos = ['P', 'M', 'G']\n",
    "\n",
    "for tshirt in (f'{c} {t}' for c in cores for t in tamanhos):\n",
    "    print(tshirt)"
   ]
  },
  {
   "cell_type": "markdown",
   "id": "ab1309a7",
   "metadata": {},
   "source": [
    "A expressão geradora cria um item por vez; uma lista com todas as seis variações de camiseta nunca é criada nesse exemplo."
   ]
  },
  {
   "cell_type": "markdown",
   "id": "dccdf902",
   "metadata": {},
   "source": [
    "## 2.4 Tuplas não são apenas listas imutáveis"
   ]
  },
  {
   "cell_type": "markdown",
   "id": "f6970ed6",
   "metadata": {},
   "source": [
    "Tuplas podem ser lista imutáveis ou registros de campos sem nome."
   ]
  },
  {
   "cell_type": "code",
   "execution_count": null,
   "id": "0464b032",
   "metadata": {},
   "outputs": [
    {
     "name": "stdout",
     "output_type": "stream",
     "text": [
      "BRA/CE342567\n",
      "ESP/XDA205856\n",
      "USA/31195855\n",
      "USA\n",
      "BRA\n",
      "ESP\n"
     ]
    }
   ],
   "source": [
    "lax_coordenadas = (33.9425, -118.408056)\n",
    "\n",
    "cidade, ano, pop, chg, area = ('Tokyo', 2003, 32_450, 0.66, 8014)\n",
    "\n",
    "passaportes = [('USA', '31195855'), ('BRA', 'CE342567'), ('ESP', 'XDA205856')]\n",
    "\n",
    "for passaporte in sorted(passaportes):\n",
    "    print('%s/%s' % passaporte)\n",
    "    #print(f'{passaporte[0]}/{passaporte[1]}' )\n",
    "\n",
    "# Desempacotamento -> _ é uma variável descartável, não a utilizamos (dummy variable)\n",
    "for pais, _ in passaportes:\n",
    "    print(pais)"
   ]
  }
 ],
 "metadata": {
  "kernelspec": {
   "display_name": ".venv",
   "language": "python",
   "name": "python3"
  },
  "language_info": {
   "codemirror_mode": {
    "name": "ipython",
    "version": 3
   },
   "file_extension": ".py",
   "mimetype": "text/x-python",
   "name": "python",
   "nbconvert_exporter": "python",
   "pygments_lexer": "ipython3",
   "version": "3.13.7"
  }
 },
 "nbformat": 4,
 "nbformat_minor": 5
}
