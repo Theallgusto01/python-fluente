{
 "cells": [
  {
   "cell_type": "markdown",
   "id": "51d8a8fa",
   "metadata": {},
   "source": [
    "# 2.2 Uma visão geral das sequências Embutidas"
   ]
  },
  {
   "cell_type": "markdown",
   "id": "548653c6",
   "metadata": {},
   "source": [
    "Sequências Contêiner - Podem armazenar tipos diferentes incluindo container aninhados e objetos de qualquer tipo -> list, tuple e collections.deque\n",
    "\n",
    "Sequências Pllanas - Armazenam itens de algum tipo simples, mas não outras coleções e ou referências a objetos -> str, bytes e array.array\n",
    "\n",
    "- Sequencias contêiner guardam referencias para os objetos que armazenam, enquanto seguencias planas armazenam os valores no próprio estado de memória\n",
    "\n",
    "\n",
    "*Outra forma de agrupar sequencias*\n",
    "\n",
    "Sequências Mutáveis -> list, bytearrey,array.array e collections.deque\n",
    "\n",
    "Sequências Imutáveis -> tuple, str e bytes\n",
    "\n"
   ]
  },
  {
   "cell_type": "code",
   "execution_count": null,
   "id": "9e97a204",
   "metadata": {},
   "outputs": [],
   "source": [
    "from collections import abc\n",
    "\n",
    "print(issubclass(tuple, abc.Sequence))\n",
    "print(issubclass(list, abc.MutableSequence))\n"
   ]
  },
  {
   "cell_type": "markdown",
   "id": "8ce7a8fe",
   "metadata": {},
   "source": [
    "## 2.3.1 Compreensões de lista e legibilidade"
   ]
  },
  {
   "cell_type": "code",
   "execution_count": null,
   "id": "3296a960",
   "metadata": {},
   "outputs": [],
   "source": [
    "simbolos = ('abcde')\n",
    "\n",
    "# ord() retorna o unicode para o caractere fornecido\n",
    "codes = [ord(simbolo) for simbolo in simbolos]\n",
    "\n",
    "codes"
   ]
  },
  {
   "cell_type": "markdown",
   "id": "e0e40934",
   "metadata": {},
   "source": [
    "> Em python, quebras de linha são ignoradas dentro de pares de `{}`, `[]` e `()`. Então podemos fazer listcomprehension em várias linhas de python (O que não é recomendado)\n",
    "> Se a compreensão de lista tomar mais de uma linha, é melhor quebrá-la e transformar num `for` normal! "
   ]
  },
  {
   "cell_type": "markdown",
   "id": "a1160508",
   "metadata": {},
   "source": [
    "#### Escopo local dentro de compreensões e expressões geradoras\n",
    "\n",
    "1. X não é alterado\n",
    "2. Last permanece\n",
    "3. c não permanece"
   ]
  },
  {
   "cell_type": "code",
   "execution_count": null,
   "id": "9cb071aa",
   "metadata": {},
   "outputs": [],
   "source": [
    "x = 'ABCDE'\n",
    "\n",
    "codes = [ord(x) for x in x]\n",
    "\n",
    "print(x) # 1\n",
    "print(codes)\n",
    "\n",
    "\n",
    "codes = [last := ord(c) for c in x]\n",
    "print(codes)\n",
    "print(last) # 2\n",
    "\n",
    "#print(c) # 3\n",
    "\n"
   ]
  },
  {
   "cell_type": "markdown",
   "id": "07f7c2f0",
   "metadata": {},
   "source": [
    "*Operador morsa no python*\n",
    "\n",
    "> Permite atribuir um valor a uma variável dentro de uma expressão, permitindo execultar a expressão e atribuir ao mesmo tempo\n",
    "\n",
    "Ex:"
   ]
  },
  {
   "cell_type": "code",
   "execution_count": null,
   "id": "fdd8478b",
   "metadata": {},
   "outputs": [],
   "source": [
    "print(valor := \"Meu nome é Thiago\")\n",
    "\n",
    "print(valor)\n"
   ]
  },
  {
   "cell_type": "code",
   "execution_count": null,
   "id": "ba1350f6",
   "metadata": {},
   "outputs": [],
   "source": [
    "if(nome := input(\"Digite seu nome: \")) and len(nome) > 5:\n",
    "    print(\"É um nome grande!\")"
   ]
  },
  {
   "cell_type": "markdown",
   "id": "c2449212",
   "metadata": {},
   "source": [
    "#### Listcomps vs. map e filter\n",
    "\n",
    "Listcomps fazem tudo que as funções map e filter fazem, sem os malabarismos exigidos pela funcionalidade limitada do `lambda` do Python"
   ]
  },
  {
   "cell_type": "code",
   "execution_count": null,
   "id": "eb90410e",
   "metadata": {},
   "outputs": [],
   "source": [
    "symbols = '!@#$&*()£¢¬'\n",
    "beyond_ascii = [ord(s) for s in symbols if ord(s) > 127]\n",
    "print(beyond_ascii)\n",
    "\n",
    "# Map executa uma função para cada item em um iterável\n",
    "#Filter retorna um iterável onde os items são filtrados através de uma função para saber se são aceitos ou não.\n",
    "\n",
    "# Filter pega os resultados da função lambda e testa com a lista de unicodes retornados pelo map\n",
    "\n",
    "beyond_ascii = list(filter(lambda c: c > 127,\n",
    "                           map(ord, symbols)))\n",
    "\n",
    "print(beyond_ascii)\n"
   ]
  },
  {
   "cell_type": "markdown",
   "id": "8da8bea7",
   "metadata": {},
   "source": [
    "## 2.3.3 Produtos Cartesianos\n",
    "\n",
    "Listcomps podem criar listas a partir do produto cartesianos de dois ou mais iteráveis. \n",
    "\n",
    "Ex. Supondo que precisamos criar uma lista de camisas disponíveis de 2 cores e 3 tamanhos"
   ]
  },
  {
   "cell_type": "code",
   "execution_count": null,
   "id": "7584b389",
   "metadata": {},
   "outputs": [],
   "source": [
    "cores = ['preta', 'branca']\n",
    "tamanhos = ['P', 'M', 'G']\n",
    "camisas = [(cor, tamanho) for cor in cores for tamanho in tamanhos]\n",
    "\n",
    "camisas"
   ]
  },
  {
   "cell_type": "markdown",
   "id": "def80e87",
   "metadata": {},
   "source": [
    "Isso gera tuplas ordenadas por cor, depois por tamanho.\n"
   ]
  },
  {
   "cell_type": "code",
   "execution_count": null,
   "id": "55cc0aeb",
   "metadata": {},
   "outputs": [],
   "source": [
    "for cor in cores:\n",
    "    for tamanho in tamanhos:\n",
    "        print((cor, tamanho))"
   ]
  },
  {
   "cell_type": "code",
   "execution_count": null,
   "id": "db23c032",
   "metadata": {},
   "outputs": [],
   "source": [
    "camisas = [(cor, tamanho) for tamanho in tamanhos for cor in cores]\n",
    "\n",
    "camisas"
   ]
  },
  {
   "cell_type": "markdown",
   "id": "9af0a120",
   "metadata": {},
   "source": [
    "## 2.3.4 Expressões geradores"
   ]
  },
  {
   "cell_type": "markdown",
   "id": "547e38a2",
   "metadata": {},
   "source": [
    "Listcomps geram listas. Para gerar tuplas, arrays e outros tipos de sequências, usamos as expressões geradoras. É possível usar uma listcomp também, mas as genexp economiza memória, pois ela produz itens um de cada vez usando o protocolo iterador em vez de criar uma lista inteira apenas para alimentar outro construtor."
   ]
  },
  {
   "cell_type": "code",
   "execution_count": null,
   "id": "20f70028",
   "metadata": {},
   "outputs": [],
   "source": [
    "simbs = '£¢!@#$*'\n",
    "\n",
    "print(tuple(ord(symbol) for symbol in simbs))\n",
    "\n",
    "import array\n",
    "\n",
    "array.array('I', (ord(symbol) for symbol in simbs))\n"
   ]
  },
  {
   "cell_type": "code",
   "execution_count": null,
   "id": "a22f1105",
   "metadata": {},
   "outputs": [],
   "source": [
    "cores = ['preta', 'branca']\n",
    "tamanhos = ['P', 'M', 'G']\n",
    "\n",
    "for tshirt in (f'{c} {t}' for c in cores for t in tamanhos):\n",
    "    print(tshirt)"
   ]
  },
  {
   "cell_type": "markdown",
   "id": "ab1309a7",
   "metadata": {},
   "source": [
    "A expressão geradora cria um item por vez; uma lista com todas as seis variações de camiseta nunca é criada nesse exemplo."
   ]
  },
  {
   "cell_type": "markdown",
   "id": "dccdf902",
   "metadata": {},
   "source": [
    "## 2.4 Tuplas não são apenas listas imutáveis"
   ]
  },
  {
   "cell_type": "markdown",
   "id": "f6970ed6",
   "metadata": {},
   "source": [
    "Tuplas podem ser lista imutáveis ou registros de campos sem nome.\n",
    "\n",
    "> Utilizamos o desempacotamento, evitando usar índices, segundo o autor."
   ]
  },
  {
   "cell_type": "markdown",
   "id": "d8b400d7",
   "metadata": {},
   "source": [
    "### Tuplas como registros"
   ]
  },
  {
   "cell_type": "code",
   "execution_count": null,
   "id": "0464b032",
   "metadata": {},
   "outputs": [],
   "source": [
    "lax_coordenadas = (33.9425, -118.408056)\n",
    "\n",
    "# Implementado na PEP 515, o underscore _ serve para separar visualmente os números;\n",
    "\n",
    "cidade, ano, pop, chg, area = ('Tokyo', 2003, 32_450, 0.66, 8014)\n",
    "\n",
    "passaportes = [('USA', '31195855'), ('BRA', 'CE342567'), ('ESP', 'XDA205856')]\n",
    "\n",
    "for passaporte in sorted(passaportes):\n",
    "    print('%s/%s' % passaporte)\n",
    "    #print(f'{passaporte[0]}/{passaporte[1]}' )\n",
    "\n",
    "# Desempacotamento -> _ é uma variável descartável, não a utilizamos (dummy variable)\n",
    "for pais, _ in passaportes:\n",
    "    print(pais)"
   ]
  },
  {
   "cell_type": "markdown",
   "id": "69536743",
   "metadata": {},
   "source": [
    "### Tuplas como listas imutáveis\n",
    "\n",
    "Tuplas usam menos memória que uma lista de mesmo tamanho e permite ao python realizar algumas otimizações.\n",
    "\n",
    "\n",
    "> Sobre a imutabilidade das tuplas, elas só se aplicam às referências ali contidas. Referências de uma tupla não podem ser apagadas ou substituidas. Mas se uma das referências apontar para um objeto mutável, e aquele objeto mudar, então o valor da tupla muda"
   ]
  },
  {
   "cell_type": "code",
   "execution_count": 8,
   "id": "c21f593c",
   "metadata": {},
   "outputs": [
    {
     "name": "stdout",
     "output_type": "stream",
     "text": [
      "(10, 'alpha', [1, 2, 99])\n"
     ]
    }
   ],
   "source": [
    "a = (10, 'alpha', [1,2])\n",
    "b = (10, 'alpha', [1,2])\n",
    "\n",
    "a == b\n",
    "#True\n",
    "b[-1].append(99)\n",
    "\n",
    "a == b \n",
    "#False\n",
    "print(b)\n"
   ]
  },
  {
   "cell_type": "markdown",
   "id": "3563c245",
   "metadata": {},
   "source": [
    "Tuplas com itens mutáveis podem ser fontes de bugs. Se uma tuple contém um item mutável, ela não pode ser uma chave de dicionário ou como elemento em um `set`"
   ]
  },
  {
   "cell_type": "markdown",
   "id": "043b07c0",
   "metadata": {},
   "source": [
    "## 2.5 Desempacotando sequências e iteráveis\n",
    "\n",
    "O desenpacotamento evita o uso de índices para acessar itens de sequências, o que causa muitos bugs."
   ]
  },
  {
   "cell_type": "markdown",
   "id": "420bcbe4",
   "metadata": {},
   "source": [
    "Atribuição paralela -> Atribuir itens de um iterável a uma tupla de variáveis"
   ]
  },
  {
   "cell_type": "code",
   "execution_count": 31,
   "id": "8eab24f0",
   "metadata": {},
   "outputs": [
    {
     "data": {
      "text/plain": [
       "33.9425"
      ]
     },
     "execution_count": 31,
     "metadata": {},
     "output_type": "execute_result"
    }
   ],
   "source": [
    "lax_coordenadas = (33.9425, -118.408056)\n",
    "latitude, longitude = lax_coordenadas #desempacotamento\n",
    "\n",
    "latitude"
   ]
  },
  {
   "cell_type": "code",
   "execution_count": 32,
   "id": "de094fe6",
   "metadata": {},
   "outputs": [
    {
     "name": "stdout",
     "output_type": "stream",
     "text": [
      "2\n",
      "1\n"
     ]
    }
   ],
   "source": [
    "# Permutar valores de variáveis sem usar variável auxiliar\n",
    "\n",
    "a = 1\n",
    "b = 2\n",
    "\n",
    "b, a = a,b\n",
    "\n",
    "print(a)\n",
    "\n",
    "print(b)\n",
    "\n"
   ]
  },
  {
   "cell_type": "markdown",
   "id": "1c3038e2",
   "metadata": {},
   "source": [
    "Outro exemplo de empacotamento é prefixar um argumento com * ao chamar uma função:"
   ]
  },
  {
   "cell_type": "code",
   "execution_count": 34,
   "id": "2a2b5114",
   "metadata": {},
   "outputs": [
    {
     "name": "stdout",
     "output_type": "stream",
     "text": [
      "2 4\n"
     ]
    }
   ],
   "source": [
    "divmod(20,8) # Retorna a divisão e o resto\n",
    "\n",
    "t = (20,8)\n",
    "\n",
    "divmod(*t)\n",
    "\n",
    "quociente, resto = divmod(*t)\n",
    "\n",
    "print(quociente, resto)"
   ]
  },
  {
   "cell_type": "code",
   "execution_count": 12,
   "id": "d0809bd0",
   "metadata": {},
   "outputs": [
    {
     "data": {
      "text/plain": [
       "'id_ed25519.pub'"
      ]
     },
     "execution_count": 12,
     "metadata": {},
     "output_type": "execute_result"
    }
   ],
   "source": [
    "import os \n",
    "# os.path.split() cria uma tupla (path, last_part) a partir de um caminho do sistema de arquivos\n",
    "_ , filename = os.path.split('/home/thiago/.ssh/id_ed25519.pub')\n",
    "\n",
    "filename"
   ]
  },
  {
   "cell_type": "markdown",
   "id": "7d7b450c",
   "metadata": {},
   "source": [
    "### 2.5.1 Usando o operador `*` para recolher itens em excesso"
   ]
  },
  {
   "cell_type": "code",
   "execution_count": 13,
   "id": "490531b8",
   "metadata": {},
   "outputs": [
    {
     "name": "stdout",
     "output_type": "stream",
     "text": [
      "0 1 [2, 3, 4]\n",
      "3 4 [0, 1, 2]\n"
     ]
    }
   ],
   "source": [
    "a, b, *rest = range(5)\n",
    "\n",
    "print(a, b, rest)\n",
    "\n",
    "*rest, a, b = range(5)\n",
    "\n",
    "print(a, b, rest)"
   ]
  },
  {
   "cell_type": "markdown",
   "id": "7fe7e70c",
   "metadata": {},
   "source": [
    "No contexto da atribuição paralela, o prefixo * pode ser aplicado a exatamente uma variável, mas pode aparecer em qualquer posição:"
   ]
  },
  {
   "cell_type": "code",
   "execution_count": 1,
   "id": "38a902b8",
   "metadata": {},
   "outputs": [
    {
     "name": "stdout",
     "output_type": "stream",
     "text": [
      "0 [1, 2, 3, 4, 5] 6 7\n"
     ]
    }
   ],
   "source": [
    "a , *body, c, d = range(8)\n",
    "\n",
    "print(a, body, c, d)"
   ]
  },
  {
   "cell_type": "markdown",
   "id": "91efd97c",
   "metadata": {},
   "source": [
    "### Desempacotando com * em chamadas de função e sequências literais"
   ]
  },
  {
   "cell_type": "code",
   "execution_count": 20,
   "id": "4ba40e62",
   "metadata": {},
   "outputs": [
    {
     "data": {
      "text/plain": [
       "(1, 2, 3, 4, (93, 4, 5, 6, 7, 8, 9, 10, 11, 12, 13, 14, 15, 16))"
      ]
     },
     "execution_count": 20,
     "metadata": {},
     "output_type": "execute_result"
    }
   ],
   "source": [
    "def fun(a,b,c,d,*rest):\n",
    "    return a, b, c, d, rest\n",
    "\n",
    "# não é possivel usar * mais de uma vez no empacotamento, \n",
    "# mas é possível no desempacotamento em chamadas de função (PEP 448)\n",
    "\n",
    "fun(*[1,2,3,4], 93, *range(4,17))\n"
   ]
  },
  {
   "cell_type": "markdown",
   "id": "6787fb05",
   "metadata": {},
   "source": [
    "O desempacotamento também pode ser utilizado na definição de literais: list, tuple ou set. "
   ]
  },
  {
   "cell_type": "code",
   "execution_count": null,
   "id": "525c0d82",
   "metadata": {},
   "outputs": [
    {
     "name": "stdout",
     "output_type": "stream",
     "text": [
      "{0, 1, 2, 3, 4, 5, 6, 7}\n"
     ]
    }
   ],
   "source": [
    "*range(4), 4\n",
    "\n",
    "lista = [*range(4), 4]\n",
    "\n",
    "set_set = {*range(4), 4, *(5,6,7)}\n",
    "\n",
    "print(set_set)"
   ]
  },
  {
   "cell_type": "markdown",
   "id": "44e8a8f3",
   "metadata": {},
   "source": [
    "### 2.5.3 Desempacotamento aninhado\n",
    "\n",
    "O alvo de um desempacotamento pode usar aninhamento, por exemplo `(a,b,(c,d))`"
   ]
  },
  {
   "cell_type": "code",
   "execution_count": null,
   "id": "01bbe0bf",
   "metadata": {},
   "outputs": [
    {
     "name": "stdout",
     "output_type": "stream",
     "text": [
      "                |  latitude | longitude\n",
      "Mexico City     |   19.4333 |  -99.1333\n",
      "New York-Newark |   40.8086 |  -74.0204\n",
      "São Paulo       |  -23.5478 |  -46.6358\n"
     ]
    }
   ],
   "source": [
    "metro_areas = [\n",
    "    ('Tokyo', 'JP', 36.933, (35.689722, 139.691667)),  # (1)\n",
    "    ('Delhi NCR', 'IN', 21.935, (28.613889, 77.208889)),\n",
    "    ('Mexico City', 'MX', 20.142, (19.433333, -99.133333)),\n",
    "    ('New York-Newark', 'US', 20.104, (40.808611, -74.020386)),\n",
    "    ('São Paulo', 'BR', 19.649, (-23.547778, -46.635833)),\n",
    "]\n",
    "\n",
    "def main():\n",
    "    print(f'{\"\":15} | {\"latitude\":>9} | {\"longitude\":>9}')\n",
    "    for name, _, _, (lat, lon) in metro_areas: # (2)\n",
    "        if lon <= 0: # (3)\n",
    "            print(f'{name:15} | {lat:9.4f} | {lon:9.4f}')\n",
    "\n",
    "\n",
    "if __name__ == '__main__':\n",
    "    main()"
   ]
  },
  {
   "cell_type": "markdown",
   "id": "52fb9751",
   "metadata": {},
   "source": [
    "1. Cada tupla comtém um registro com 4 campos, o ultimo é um par de coordenadas\n",
    "2. Ao atribuir o ultimo campo a uma tupla aninhada, desempacotamos as coordenadas\n",
    "3. O teste `lon <= 0:` seleciona apenas as cidades do hemisfério ocidental\n"
   ]
  },
  {
   "cell_type": "markdown",
   "id": "4dad1263",
   "metadata": {},
   "source": [
    "## 2.6 Pattern Matching com sequências\n",
    "\n",
    "Casamento de padrões (PEP 634)\n"
   ]
  },
  {
   "cell_type": "markdown",
   "id": "fb806c0d",
   "metadata": {},
   "source": [
    "Supondo que estamos construindo um robô que aceita comandos enviados como sequências de palavras e números como `BEEPER 440 3`"
   ]
  },
  {
   "cell_type": "code",
   "execution_count": null,
   "id": "961f06cb",
   "metadata": {},
   "outputs": [],
   "source": [
    "def comando_gatilho(self, message):\n",
    "    match message: #(1) \n",
    "        case ['BEEPER', frequency, times]: #(2)\n",
    "            self.beep(times, frequency)\n",
    "        case ['NECK', angle]: #(3)\n",
    "            self.rotate_neck(angle)\n",
    "        case ['LED', pin, intensity]: #(4)\n",
    "            self.leds[ident].set_brightness(pin,intensity)\n",
    "        case ['LED', pin, red, green, blue]: #(5)\n",
    "            self.leds[ident].set_color(pin, red, green, blue)\n",
    "\n",
    "        case _: #(6)\n",
    "            raise InvalidCommand(message)\n",
    "        "
   ]
  },
  {
   "cell_type": "markdown",
   "id": "70d78267",
   "metadata": {},
   "source": [
    "Apesar de parecer com o switch/case do C, o match/case possui melhorias como a desentruturação - uma forma mais avançada de desenpacotamento. \n",
    "\n",
    "1. A expressão após a palavra chave `match` é o sujeito. O sujeito contém os dados que python vai comparar aos padrões em cada instrução case.\n",
    "2. Esse padrão casa com qualquer sujeito que seja uma sequência de três itens. O primeiro item deve ser a string `BEEPER`. O segundo e o terceiro itens podem ser qualquer coisa, e serão vinculados às variàveis `frequency` e `times` respectivamente. \n",
    "3.  Isso casa com qualquer sujeito com dois itens, se o primeiro for `NECK`\n",
    "\n",
    "4. Isso vai casar com um sujeito de três itens começando com `LED`. Se o numero de itens não for correspondente, Python segue para o próximo `case`.\n",
    "\n",
    "5. Outro padão de sequência começando com `LED`, agora com 5 itens - incluindo a constante `LED`.\n",
    "\n",
    "6. Esse é o `case` default. Vai casar com qualquer sujeito que não tenha sido que não tenha sido capturado por um dos padrões precedentes. A variável `_` é especial \n",
    "\n",
    "Exemplo 8 reescrito com desestruturação:"
   ]
  },
  {
   "cell_type": "code",
   "execution_count": null,
   "id": "70b4a64f",
   "metadata": {},
   "outputs": [
    {
     "name": "stdout",
     "output_type": "stream",
     "text": [
      "                |  latitude | longitude\n",
      "Mexico City     |   19.4333 |  -99.1333 \n",
      "New York-Newark |   40.8086 |  -74.0204 \n",
      "São Paulo       |  -23.5478 |  -46.6358 \n"
     ]
    }
   ],
   "source": [
    "metro_areas = [\n",
    "    ('Tokyo', 'JP', 36.933, (35.689722, 139.691667)),\n",
    "    ('Delhi NCR', 'IN', 21.935, (28.613889, 77.208889)),\n",
    "    ('Mexico City', 'MX', 20.142, (19.433333, -99.133333)),\n",
    "    ('New York-Newark', 'US', 20.104, (40.808611, -74.020386)),\n",
    "    ('São Paulo', 'BR', 19.649, (-23.547778, -46.635833)),\n",
    "]\n",
    "\n",
    "def main():\n",
    "    print(f'{\"\":15} | {\"latitude\":>9} | {\"longitude\":>9}')\n",
    "    for record in metro_areas:\n",
    "        match record: #(1)\n",
    "            case [name, *_, (lat, lon)] if lon <= 0: #(2)\n",
    "                print(f'{name:15} | {lat:9.4f} | {lon:9.4f}')\n",
    "\n",
    "if __name__ == '__main__':\n",
    "    main()"
   ]
  },
  {
   "cell_type": "markdown",
   "id": "8872dd2d",
   "metadata": {},
   "source": [
    "1. O sujeito desse `match` é `record` - cada uma das tuplas em `metro_areas`\n",
    "2. Uma instrução case tem duas partes: um padrão e uma guarda opcional, com a palavra chave if.\n",
    "\n",
    "Em geral, um padrão de sequência casa com o sujeito se estas 3 condições forem verdadeiras:\n",
    "\n",
    "1. O sujeito é uma sequência, *e*\n",
    "2. O sujeito e o padrão tem o mesmo numero de itens, *e*\n",
    "3. Todos os itens correspondentes casam, incluindo os itens aninhados.\n",
    "\n",
    "Exemplo:  o padrão `[name, _, _, (lat, lon)]` casa com uma sequência de quatro itens, e o ultimo item precisa ser uma sequência de dois itens.\n",
    "\n",
    "Padrões de sequência podem ser escritos como tuplas e listas, mas a sintaxe usada não faz diferença: em um padrão de sequência, colchetes e parênteses tem o mesmo significado.\n",
    "\n",
    "\n",
    "\n",
    "> Tipos que são compatíveis com padrões de sequência: `list`, `tuple`, `memoryview`, `array.array`, `tuple`, `range`, `collections.deque`\n",
    "\n",
    "Ao contrário do desenpacotamento, padrões não desentruturam iteráveis que não sejam sequências (tal como os iteradores)"
   ]
  },
  {
   "cell_type": "markdown",
   "id": "e8f040f5",
   "metadata": {},
   "source": [
    "O símbolo `_` é especial nos padrões: ele casa com qualquer item naquela posição, mas nunca é vinculado ao valor daquele item. O valor é descartado. Além disso, o _ é a única variável que pode aparecer mais de uma vez em um padrão. \n",
    "\n",
    "\n",
    "Podemos vincular qualquer parte de um padrão a uma variável usando a palavra-chave `as`:\n",
    "\n",
    "`case [name, _, _, (lat,lon) as coord]`\n",
    "\n"
   ]
  },
  {
   "cell_type": "markdown",
   "id": "8cb3b9ed",
   "metadata": {},
   "source": [
    "`case [name, _, _, (lat, lon) as coord]:`\n",
    "\n",
    "\n",
    "Variável | Valor \n",
    "\n",
    "name        'Shanghai'\n",
    "lat         31.1\n",
    "lon         121.3\n",
    "coord       (31.1, 121.3)\n",
    "\n",
    "\n",
    "Para os padões ficarem ainda mais específicos podemos incluir informações de tipo\n",
    "\n",
    "`case [str(name), _, _, (float(lat), float(lon))]`\n",
    "\n",
    "Se queremos casar qualquer sujeito sequência começando com uma `str` e terminando com uma sequência aninhada com dois números de ponto flutuante, podemos escrever:\n",
    "\n",
    "`case[str(name), *_, (float(lat), float(lon))]`\n",
    "\n"
   ]
  },
  {
   "cell_type": "markdown",
   "id": "5530b1e5",
   "metadata": {},
   "source": [
    "### 2.6.1 Casando padrões de sequência em um interpretador\n",
    "\n",
    "\n"
   ]
  },
  {
   "cell_type": "markdown",
   "id": "fa1be39a",
   "metadata": {},
   "source": [
    "##### 2.6.1.1 Padrões alternativos para lambda\n",
    "\n",
    "A ideia o tópico continua sendo pattern matching usando o exemplo de um interpretador... "
   ]
  },
  {
   "cell_type": "markdown",
   "id": "11489a39",
   "metadata": {},
   "source": [
    "# 2.7 Fatiamento\n",
    "\n",
    "`seq[start:stop:step]`\n",
    "\n",
    "`list`, `tuple` e `str` possuem suporte a fatiamento...\n",
    "\n",
    "## 2.7.1 Por que fatias e faixas excluem o último item\n"
   ]
  },
  {
   "cell_type": "code",
   "execution_count": 11,
   "id": "6cb95f49",
   "metadata": {},
   "outputs": [
    {
     "data": {
      "text/plain": [
       "[40, 50, 60]"
      ]
     },
     "execution_count": 11,
     "metadata": {},
     "output_type": "execute_result"
    }
   ],
   "source": [
    "l = [10,20,30,40,50,60]\n",
    "\n",
    "l[:2] # divide no 2 \n",
    "\n",
    "# [10, 20]\n",
    "\n",
    "l[2:] # divide a partir do 2\n",
    "\n",
    "# [30, 40, 50, 60]\n",
    "\n",
    "l[:3] # divide no 3\n",
    "\n",
    "# [10, 20, 30]\n",
    "\n",
    "l[3:] # divide a partir do 3\n",
    "\n",
    "# [40, 50, 60]"
   ]
  },
  {
   "cell_type": "markdown",
   "id": "ab75a9dc",
   "metadata": {},
   "source": [
    "### 2.7.2 Objetos fatia\n",
    "\n",
    "Na sintaxe `s[a:b:c]`, c pode ser um passo ou um salto fazendo que a fatia resultante pule itens. O passo pode ser também negativo devolvendo os itens em ordem inversa:"
   ]
  },
  {
   "cell_type": "code",
   "execution_count": null,
   "id": "24d714e3",
   "metadata": {},
   "outputs": [
    {
     "name": "stdout",
     "output_type": "stream",
     "text": [
      "bie\n",
      "atelcicib\n",
      "aeccb\n"
     ]
    }
   ],
   "source": [
    "s = 'bicicleta'\n",
    "\n",
    "print(s[::3])\n",
    "\n",
    "print(s[::-1])\n",
    "\n",
    "print(s[::-2])"
   ]
  },
  {
   "cell_type": "markdown",
   "id": "02ff0200",
   "metadata": {},
   "source": [
    "A notação `a:b:c` só é valida entre `[]` quando usada como operador de indexação ou de substituição (subscript).\n",
    "\n",
    "Para avaliar a expressão, o python chama `seq.__getitem__(slice(start,stop,step))`. Podemos dar nomes às fatias.\n",
    "\n",
    "### 2.7.3 Fatiamento multidimensional e reticências\n"
   ]
  },
  {
   "cell_type": "markdown",
   "id": "0a99a264",
   "metadata": {},
   "source": [
    "As reticências `...` são reconhecidas como um símbolo passado como argumento para funções e como parte da especificação de uma fatia, como em `f(a, ..., z)` "
   ]
  },
  {
   "cell_type": "markdown",
   "id": "2f6198ff",
   "metadata": {},
   "source": [
    "### 2.7.4 Atribuindo Fatias"
   ]
  },
  {
   "cell_type": "code",
   "execution_count": null,
   "id": "2e18c05c",
   "metadata": {},
   "outputs": [
    {
     "name": "stdout",
     "output_type": "stream",
     "text": [
      "[0, 1, 2, 3, 4, 5, 6, 7, 8, 9]\n",
      "[0, 1, 20, 30, 5, 6, 7, 8, 9]\n",
      "[0, 1, 20, 30, 5, 8, 9]\n",
      "[0, 1, 20, 11, 5, 22, 9]\n",
      "[0, 1, 100, 22, 9]\n"
     ]
    }
   ],
   "source": [
    "l = list(range(10))\n",
    "\n",
    "print(l)\n",
    "\n",
    "l[2:5] = [20,30]\n",
    "\n",
    "print(l)\n",
    "\n",
    "del l [5:7]\n",
    "\n",
    "print(l)\n",
    "\n",
    "l[3::2] = [11,22]\n",
    "\n",
    "print(l)\n",
    "\n",
    "#l[2:5] = 100 #(1)\n",
    "\n",
    "# Quando o alvo de uma atribuição é uma fatia, \n",
    "# o lado direito deve ser um objeto iterável, \n",
    "# mesmo que tenha apenas um item\n",
    "\n",
    "l[2:5] = [100]\n",
    "\n",
    "print(l)"
   ]
  },
  {
   "cell_type": "markdown",
   "id": "0b6563fa",
   "metadata": {},
   "source": [
    "# 2.8 Usando `+` e `*` com sequências"
   ]
  },
  {
   "cell_type": "code",
   "execution_count": null,
   "id": "502be664",
   "metadata": {},
   "outputs": [
    {
     "name": "stdout",
     "output_type": "stream",
     "text": [
      "[1, 2, 3, 1, 2, 3, 1, 2, 3, 1, 2, 3, 1, 2, 3]\n",
      "abcdabcdabcdabcdabcd\n"
     ]
    }
   ],
   "source": [
    "# Os dois operandos de um + precisam ser do mesmo tipo \n",
    "# de sequência e nenhum deles é modificado e sim um novo \n",
    "# elemento é criado\n",
    "\n",
    "l = [1,2,3]\n",
    "\n",
    "print(l * 5)\n",
    "\n",
    "print(5 * 'abcd')"
   ]
  },
  {
   "cell_type": "markdown",
   "id": "7661f13f",
   "metadata": {},
   "source": [
    "## 2.8.1 Criando uma lista de listas"
   ]
  },
  {
   "cell_type": "code",
   "execution_count": 36,
   "id": "750344d9",
   "metadata": {},
   "outputs": [
    {
     "data": {
      "text/plain": [
       "[['_', '_', '_'], ['_', '_', 'X'], ['_', '_', '_']]"
      ]
     },
     "execution_count": 36,
     "metadata": {},
     "output_type": "execute_result"
    }
   ],
   "source": [
    "# Uma lista com três listas de tamanho 3 pode representar um tabuleiro de jogo da velha\n",
    "\n",
    "board = [['_'] * 3 for i in range(3)] ## O elemento '_' é criado 3 vezes dentro da mesma lista\n",
    "\n",
    "board[1][2] = 'X'\n",
    "\n",
    "board\n"
   ]
  },
  {
   "cell_type": "code",
   "execution_count": null,
   "id": "34851314",
   "metadata": {},
   "outputs": [
    {
     "data": {
      "text/plain": [
       "[['_', '_', 'O'], ['_', '_', 'O'], ['_', '_', 'O']]"
      ]
     },
     "execution_count": 37,
     "metadata": {},
     "output_type": "execute_result"
    }
   ],
   "source": [
    "# Um atalho tentador mas errado seria:\n",
    "\n",
    "# A lista externa é feita de três referências para a mesma lista interna\n",
    "weird_board = [['_'] * 3] * 3\n",
    "\n",
    "weird_board[1][2] = 'O' \n",
    "# Colocar um O na linha 1, coluna 2 revela que todas as linhas são apelidos do mesmo objeto\n",
    "\n",
    "weird_board"
   ]
  },
  {
   "cell_type": "code",
   "execution_count": null,
   "id": "bf6fe60f",
   "metadata": {},
   "outputs": [],
   "source": [
    "row = ['_'] * 3\n",
    "\n",
    "board = []\n",
    "\n",
    "for i in range(3):\n",
    "    board.append(row) # a mesma row é anexada 3 vezes ao board\n",
    "\n",
    "\n",
    "# Por outro lado, a compreensão de lista do exemplo 14 equivale a:\n",
    "\n",
    "board = []\n",
    "for i in range(3):\n",
    "    row = ['_'] * 3 # é criada uma nova row para cada ciclo do for\n",
    "    board.append(row)\n",
    "\n"
   ]
  },
  {
   "cell_type": "markdown",
   "id": "c89ef7b3",
   "metadata": {},
   "source": [
    "## 2.8.2 Atribuição aumentada com sequências\n",
    "\n",
    "\n",
    "O método especial que faz `\\+=` funcionar se chama `__iadd__`, que significa in-plade addition (adição interna).\n",
    "\n",
    "Entretanto, se `__iadd__` não tiver implementado, o python usa `__add__` como antes de fazer a atribuição. "
   ]
  },
  {
   "cell_type": "code",
   "execution_count": null,
   "id": "bab19657",
   "metadata": {},
   "outputs": [
    {
     "data": {
      "text/plain": [
       "[1, 2, 3, 4, 5, 6]"
      ]
     },
     "execution_count": 2,
     "metadata": {},
     "output_type": "execute_result"
    }
   ],
   "source": [
    "a = [1,2,3]\n",
    "b = [4,5,6]\n",
    "\n",
    "a += b\n",
    "\n",
    "a\n",
    "\n",
    "# se á for sequência mutável (list, bytearray, array.array) \n",
    "# o objeto será modificado no lugar (mesmo que a.extend(b))\n"
   ]
  },
  {
   "cell_type": "code",
   "execution_count": null,
   "id": "f8f1ec87",
   "metadata": {},
   "outputs": [
    {
     "name": "stdout",
     "output_type": "stream",
     "text": [
      "139800497432768\n",
      "139800497432768\n",
      "139800850898304\n",
      "139800923403168\n"
     ]
    }
   ],
   "source": [
    "l = [1,2,3]\n",
    "\n",
    "print(id(l))\n",
    "\n",
    "l *= 2\n",
    "\n",
    "print(id(l)) # A lista é a mesma \n",
    "\n",
    "t = (1,2,3)\n",
    "\n",
    "print(id(t))\n",
    "\n",
    "t *= 2\n",
    "\n",
    "print(id(t)) # foi criada uma nova tupla\n",
    "\n"
   ]
  },
  {
   "cell_type": "markdown",
   "id": "c29cc905",
   "metadata": {},
   "source": [
    "A concatenação repetida de sequências imutáveis é ineficiente, pois ao invés de apenas acrescentar novos itens, o interpretador tem que copiar toda a sequência alvo para criar um novo objeto com os novos itens concatenados"
   ]
  },
  {
   "cell_type": "markdown",
   "id": "85e3740e",
   "metadata": {},
   "source": [
    "## 2.8.3 Um quebra-cabeça com a atribuição +="
   ]
  },
  {
   "cell_type": "code",
   "execution_count": null,
   "id": "ecbedd64",
   "metadata": {},
   "outputs": [
    {
     "ename": "TypeError",
     "evalue": "'tuple' object does not support item assignment",
     "output_type": "error",
     "traceback": [
      "\u001b[31m---------------------------------------------------------------------------\u001b[39m",
      "\u001b[31mTypeError\u001b[39m                                 Traceback (most recent call last)",
      "\u001b[36mCell\u001b[39m\u001b[36m \u001b[39m\u001b[32mIn[12]\u001b[39m\u001b[32m, line 3\u001b[39m\n\u001b[32m      1\u001b[39m t = (\u001b[32m1\u001b[39m,\u001b[32m2\u001b[39m,[\u001b[32m30\u001b[39m,\u001b[32m40\u001b[39m])\n\u001b[32m----> \u001b[39m\u001b[32m3\u001b[39m \u001b[43mt\u001b[49m\u001b[43m[\u001b[49m\u001b[32;43m2\u001b[39;49m\u001b[43m]\u001b[49m += [\u001b[32m50\u001b[39m,\u001b[32m60\u001b[39m]\n\u001b[32m      5\u001b[39m \u001b[38;5;28mprint\u001b[39m(t)\n",
      "\u001b[31mTypeError\u001b[39m: 'tuple' object does not support item assignment"
     ]
    }
   ],
   "source": [
    "t = (1,2,[30,40])\n",
    "\n",
    "t[2] += [50,60]\n"
   ]
  },
  {
   "cell_type": "code",
   "execution_count": 13,
   "id": "ca718701",
   "metadata": {},
   "outputs": [
    {
     "name": "stdout",
     "output_type": "stream",
     "text": [
      "(1, 2, [30, 40, 50, 60])\n"
     ]
    }
   ],
   "source": [
    "print(t)"
   ]
  },
  {
   "cell_type": "code",
   "execution_count": 15,
   "id": "f9d77fe2",
   "metadata": {},
   "outputs": [
    {
     "name": "stdout",
     "output_type": "stream",
     "text": [
      "  0           RESUME                   0\n",
      "\n",
      "  1           LOAD_NAME                0 (s)\n",
      "              LOAD_NAME                1 (a)\n",
      "              COPY                     2\n",
      "              COPY                     2\n",
      "              BINARY_SUBSCR\n",
      "              LOAD_NAME                2 (b)\n",
      "              BINARY_OP               13 (+=)\n",
      "              SWAP                     3\n",
      "              SWAP                     2\n",
      "              STORE_SUBSCR\n",
      "              RETURN_CONST             0 (None)\n"
     ]
    }
   ],
   "source": [
    "import dis\n",
    "dis.dis('s[a] += b')"
   ]
  },
  {
   "cell_type": "markdown",
   "id": "713cc64b",
   "metadata": {},
   "source": [
    "O autor faz uma análise do bytecode resultante e explica o motivo de a saída do exemplo acima funcionar e dar erro ao mesmo tempo.\n",
    "\n",
    "TODO: Estudar sobre o bytecode do python."
   ]
  },
  {
   "cell_type": "markdown",
   "id": "1ab76051",
   "metadata": {},
   "source": [
    "### 2.9 list.sort versus a função embutida sorted\n",
    "\n",
    "`list.sort` ordena uma lista internamente, devolve `None`\n",
    "\n",
    "> Uma convenção importante em python: Funções e métodos que mudam o objeto internamente devem devolver `None`\n",
    "\n",
    "A função embutida `sorted`, por outro lado, crie e devolve uma nova lista. Ela aceita qualquer objeto iterável como um argumento. Sempre devolve uma lista, independentemente do tipo de iterável passado.\n",
    "\n",
    "\n",
    "Ambos aceitam dois argumentos opcionais:\n",
    "- `reverse` -> Se true, os itens são develvidos em ordem decrescente.\n",
    "- `key` -> Uma função de um argumento que será aplicada a cada item para produzir sua chave de ordenação."
   ]
  },
  {
   "cell_type": "code",
   "execution_count": null,
   "id": "da1ac9b7",
   "metadata": {},
   "outputs": [
    {
     "data": {
      "text/plain": [
       "['a',\n",
       " 'd',\n",
       " 'e',\n",
       " 'f',\n",
       " 'g',\n",
       " 'h',\n",
       " 'i',\n",
       " 'j',\n",
       " 'o',\n",
       " 'p',\n",
       " 'q',\n",
       " 'r',\n",
       " 's',\n",
       " 't',\n",
       " 'u',\n",
       " 'w',\n",
       " 'y',\n",
       " 'Z']"
      ]
     },
     "execution_count": 5,
     "metadata": {},
     "output_type": "execute_result"
    }
   ],
   "source": [
    "a = 'qwertyuZiopasdfghj'\n",
    "\n",
    "sorted(a, key=str.lower) # Ordena sem levar em conta maiúsculas e minúsculas\n",
    "\n",
    "# key=len - Ordena pela quantidade de caracteres"
   ]
  },
  {
   "cell_type": "code",
   "execution_count": null,
   "id": "44ab22fb",
   "metadata": {},
   "outputs": [
    {
     "name": "stdout",
     "output_type": "stream",
     "text": [
      "['banana', 'maça', 'melão', 'uva']\n",
      "['uva', 'banana', 'maça', 'melão']\n",
      "['uva', 'melão', 'maça', 'banana']\n",
      "['uva', 'maça', 'melão', 'banana']\n",
      "['banana', 'melão', 'maça', 'uva']\n",
      "['uva', 'banana', 'maça', 'melão']\n",
      "['banana', 'maça', 'melão', 'uva']\n"
     ]
    }
   ],
   "source": [
    "frutas = ['uva', 'banana', 'maça', 'melão']\n",
    "\n",
    "print(sorted(frutas)) # (1) Ordem alfabética\n",
    "\n",
    "print(frutas) # (2) A lista não mudou\n",
    "\n",
    "print(sorted(frutas, reverse=True)) # (3) Ordenação alfabética invertida\n",
    "\n",
    "print(sorted(frutas, key=len)) # (4)  Strings ordenadas por tamanho\n",
    "\n",
    "print(sorted(frutas, key=len, reverse=True)) # (5) Ordenadas em ordem decrescente\n",
    "\n",
    "print(frutas) # (6) Até aqui a ordenação não mudou\n",
    "\n",
    "frutas.sort()#Ordenação interna, retorna None\n",
    "\n",
    "print(frutas) # Ordenada\n",
    "\n"
   ]
  }
 ],
 "metadata": {
  "kernelspec": {
   "display_name": ".venv",
   "language": "python",
   "name": "python3"
  },
  "language_info": {
   "codemirror_mode": {
    "name": "ipython",
    "version": 3
   },
   "file_extension": ".py",
   "mimetype": "text/x-python",
   "name": "python",
   "nbconvert_exporter": "python",
   "pygments_lexer": "ipython3",
   "version": "3.13.5"
  }
 },
 "nbformat": 4,
 "nbformat_minor": 5
}
