{
 "cells": [
  {
   "cell_type": "markdown",
   "id": "51d8a8fa",
   "metadata": {},
   "source": [
    "# 2.2 Uma visão geral das sequências Embutidas"
   ]
  },
  {
   "cell_type": "markdown",
   "id": "548653c6",
   "metadata": {},
   "source": [
    "Sequências Contêiner - Podem armazenar tipos diferentes incluindo container aninhados e objetos de qualquer tipo -> list, tuple e collections.deque\n",
    "\n",
    "Sequências Pllanas - Armazenam itens de algum tipo simples, mas não outras coleções e ou referências a objetos -> str, bytes e array.array\n",
    "\n",
    "- Sequencias contêiner guardam referencias para os objetos que armazenam, enquanto seguencias planas armazenam os valores no próprio estado de memória\n",
    "\n",
    "\n",
    "*Outra forma de agrupar sequencias*\n",
    "\n",
    "Sequências Mutáveis -> list, bytearrey,array.array e collections.deque\n",
    "\n",
    "Sequências Imutáveis -> tuple, str e bytes\n",
    "\n"
   ]
  },
  {
   "cell_type": "code",
   "execution_count": null,
   "id": "9e97a204",
   "metadata": {},
   "outputs": [],
   "source": [
    "from collections import abc\n",
    "\n",
    "print(issubclass(tuple, abc.Sequence))\n",
    "print(issubclass(list, abc.MutableSequence))\n"
   ]
  },
  {
   "cell_type": "markdown",
   "id": "8ce7a8fe",
   "metadata": {},
   "source": [
    "## 2.3.1 Compreensões de lista e legibilidade"
   ]
  },
  {
   "cell_type": "code",
   "execution_count": null,
   "id": "3296a960",
   "metadata": {},
   "outputs": [],
   "source": [
    "simbolos = ('abcde')\n",
    "\n",
    "# ord() retorna o unicode para o caractere fornecido\n",
    "codes = [ord(simbolo) for simbolo in simbolos]\n",
    "\n",
    "codes"
   ]
  },
  {
   "cell_type": "markdown",
   "id": "e0e40934",
   "metadata": {},
   "source": [
    "> Em python, quebras de linha são ignoradas dentro de pares de `{}`, `[]` e `()`. Então podemos fazer listcomprehension em várias linhas de python (O que não é recomendado)\n",
    "> Se a compreensão de lista tomar mais de uma linha, é melhor quebrá-la e transformar num `for` normal! "
   ]
  },
  {
   "cell_type": "markdown",
   "id": "a1160508",
   "metadata": {},
   "source": [
    "#### Escopo local dentro de compreensões e expressões geradoras\n",
    "\n",
    "1. X não é alterado\n",
    "2. Last permanece\n",
    "3. c não permanece"
   ]
  },
  {
   "cell_type": "code",
   "execution_count": null,
   "id": "9cb071aa",
   "metadata": {},
   "outputs": [],
   "source": [
    "x = 'ABCDE'\n",
    "\n",
    "codes = [ord(x) for x in x]\n",
    "\n",
    "print(x) # 1\n",
    "print(codes)\n",
    "\n",
    "\n",
    "codes = [last := ord(c) for c in x]\n",
    "print(codes)\n",
    "print(last) # 2\n",
    "\n",
    "#print(c) # 3\n",
    "\n"
   ]
  },
  {
   "cell_type": "markdown",
   "id": "07f7c2f0",
   "metadata": {},
   "source": [
    "*Operador morsa no python*\n",
    "\n",
    "> Permite atribuir um valor a uma variável dentro de uma expressão, permitindo execultar a expressão e atribuir ao mesmo tempo\n",
    "\n",
    "Ex:"
   ]
  },
  {
   "cell_type": "code",
   "execution_count": null,
   "id": "fdd8478b",
   "metadata": {},
   "outputs": [],
   "source": [
    "print(valor := \"Meu nome é Thiago\")\n",
    "\n",
    "print(valor)\n"
   ]
  },
  {
   "cell_type": "code",
   "execution_count": null,
   "id": "ba1350f6",
   "metadata": {},
   "outputs": [],
   "source": [
    "if(nome := input(\"Digite seu nome: \")) and len(nome) > 5:\n",
    "    print(\"É um nome grande!\")"
   ]
  },
  {
   "cell_type": "markdown",
   "id": "c2449212",
   "metadata": {},
   "source": [
    "#### Listcomps vs. map e filter\n",
    "\n",
    "Listcomps fazem tudo que as funções map e filter fazem, sem os malabarismos exigidos pela funcionalidade limitada do `lambda` do Python"
   ]
  },
  {
   "cell_type": "code",
   "execution_count": null,
   "id": "eb90410e",
   "metadata": {},
   "outputs": [],
   "source": [
    "symbols = '!@#$&*()£¢¬'\n",
    "beyond_ascii = [ord(s) for s in symbols if ord(s) > 127]\n",
    "print(beyond_ascii)\n",
    "\n",
    "# Map executa uma função para cada item em um iterável\n",
    "#Filter retorna um iterável onde os items são filtrados através de uma função para saber se são aceitos ou não.\n",
    "\n",
    "# Filter pega os resultados da função lambda e testa com a lista de unicodes retornados pelo map\n",
    "\n",
    "beyond_ascii = list(filter(lambda c: c > 127,\n",
    "                           map(ord, symbols)))\n",
    "\n",
    "print(beyond_ascii)\n"
   ]
  },
  {
   "cell_type": "markdown",
   "id": "8da8bea7",
   "metadata": {},
   "source": [
    "## 2.3.3 Produtos Cartesianos\n",
    "\n",
    "Listcomps podem criar listas a partir do produto cartesianos de dois ou mais iteráveis. \n",
    "\n",
    "Ex. Supondo que precisamos criar uma lista de camisas disponíveis de 2 cores e 3 tamanhos"
   ]
  },
  {
   "cell_type": "code",
   "execution_count": null,
   "id": "7584b389",
   "metadata": {},
   "outputs": [],
   "source": [
    "cores = ['preta', 'branca']\n",
    "tamanhos = ['P', 'M', 'G']\n",
    "camisas = [(cor, tamanho) for cor in cores for tamanho in tamanhos]\n",
    "\n",
    "camisas"
   ]
  },
  {
   "cell_type": "markdown",
   "id": "def80e87",
   "metadata": {},
   "source": [
    "Isso gera tuplas ordenadas por cor, depois por tamanho.\n"
   ]
  },
  {
   "cell_type": "code",
   "execution_count": null,
   "id": "55cc0aeb",
   "metadata": {},
   "outputs": [],
   "source": [
    "for cor in cores:\n",
    "    for tamanho in tamanhos:\n",
    "        print((cor, tamanho))"
   ]
  },
  {
   "cell_type": "code",
   "execution_count": null,
   "id": "db23c032",
   "metadata": {},
   "outputs": [],
   "source": [
    "camisas = [(cor, tamanho) for tamanho in tamanhos for cor in cores]\n",
    "\n",
    "camisas"
   ]
  },
  {
   "cell_type": "markdown",
   "id": "9af0a120",
   "metadata": {},
   "source": [
    "## 2.3.4 Expressões geradores"
   ]
  },
  {
   "cell_type": "markdown",
   "id": "547e38a2",
   "metadata": {},
   "source": [
    "Listcomps geram listas. Para gerar tuplas, arrays e outros tipos de sequências, usamos as expressões geradoras. É possível usar uma listcomp também, mas as genexp economiza memória, pois ela produz itens um de cada vez usando o protocolo iterador em vez de criar uma lista inteira apenas para alimentar outro construtor."
   ]
  },
  {
   "cell_type": "code",
   "execution_count": null,
   "id": "20f70028",
   "metadata": {},
   "outputs": [],
   "source": [
    "simbs = '£¢!@#$*'\n",
    "\n",
    "print(tuple(ord(symbol) for symbol in simbs))\n",
    "\n",
    "import array\n",
    "\n",
    "array.array('I', (ord(symbol) for symbol in simbs))\n"
   ]
  },
  {
   "cell_type": "code",
   "execution_count": null,
   "id": "a22f1105",
   "metadata": {},
   "outputs": [],
   "source": [
    "cores = ['preta', 'branca']\n",
    "tamanhos = ['P', 'M', 'G']\n",
    "\n",
    "for tshirt in (f'{c} {t}' for c in cores for t in tamanhos):\n",
    "    print(tshirt)"
   ]
  },
  {
   "cell_type": "markdown",
   "id": "ab1309a7",
   "metadata": {},
   "source": [
    "A expressão geradora cria um item por vez; uma lista com todas as seis variações de camiseta nunca é criada nesse exemplo."
   ]
  },
  {
   "cell_type": "markdown",
   "id": "dccdf902",
   "metadata": {},
   "source": [
    "## 2.4 Tuplas não são apenas listas imutáveis"
   ]
  },
  {
   "cell_type": "markdown",
   "id": "f6970ed6",
   "metadata": {},
   "source": [
    "Tuplas podem ser lista imutáveis ou registros de campos sem nome.\n",
    "\n",
    "> Utilizamos o desempacotamento, evitando usar índices, segundo o autor."
   ]
  },
  {
   "cell_type": "markdown",
   "id": "d8b400d7",
   "metadata": {},
   "source": [
    "### Tuplas como registros"
   ]
  },
  {
   "cell_type": "code",
   "execution_count": null,
   "id": "0464b032",
   "metadata": {},
   "outputs": [],
   "source": [
    "lax_coordenadas = (33.9425, -118.408056)\n",
    "\n",
    "cidade, ano, pop, chg, area = ('Tokyo', 2003, 32_450, 0.66, 8014)\n",
    "\n",
    "passaportes = [('USA', '31195855'), ('BRA', 'CE342567'), ('ESP', 'XDA205856')]\n",
    "\n",
    "for passaporte in sorted(passaportes):\n",
    "    print('%s/%s' % passaporte)\n",
    "    #print(f'{passaporte[0]}/{passaporte[1]}' )\n",
    "\n",
    "# Desempacotamento -> _ é uma variável descartável, não a utilizamos (dummy variable)\n",
    "for pais, _ in passaportes:\n",
    "    print(pais)"
   ]
  },
  {
   "cell_type": "markdown",
   "id": "69536743",
   "metadata": {},
   "source": [
    "### Tuplas como listas imutáveis\n",
    "\n",
    "Tuplas usam menos memória que uma lista de mesmo tamanho e permite ao python realizar algumas otimizações.\n",
    "\n",
    "\n",
    "> Sobre a imutabilidade das tuplas, elas só se aplicam às referências ali contidas. Referências de uma tupla não podem ser apagadas ou substituidas. Mas se uma das referências apontar para um objeto mutável, e aquele objeto mudar, então o valor da tupla muda"
   ]
  },
  {
   "cell_type": "code",
   "execution_count": null,
   "id": "c21f593c",
   "metadata": {},
   "outputs": [],
   "source": [
    "a = (10, 'alpha', [1,2])\n",
    "b = (10, 'alpha', [1,2])\n",
    "\n",
    "a == b\n",
    "#True\n",
    "b[-1].append(99)\n",
    "\n",
    "a == b \n",
    "#False\n",
    "print(b)\n"
   ]
  },
  {
   "cell_type": "markdown",
   "id": "3563c245",
   "metadata": {},
   "source": [
    "Tuplas com itens mutáveis podem ser fontes de bugs. Se uma tuple contém um item mutável, ela não pode ser uma chave de dicionário ou como elemento em um `set`"
   ]
  },
  {
   "cell_type": "markdown",
   "id": "043b07c0",
   "metadata": {},
   "source": [
    "## Desempacotando sequências e iteráveis\n",
    "\n",
    "O desenpacotamento evita o uso de índices para acessar itens de sequências, o que causa muitos bugs."
   ]
  },
  {
   "cell_type": "markdown",
   "id": "420bcbe4",
   "metadata": {},
   "source": [
    "Atribuição paralela -> Atribuir itens de um iterável a uma tupla de variáveis"
   ]
  },
  {
   "cell_type": "code",
   "execution_count": null,
   "id": "8eab24f0",
   "metadata": {},
   "outputs": [],
   "source": [
    "lax_coordenadas = (33.9425, -118.408056)\n",
    "latitude, longitude = lax_coordenadas #desempacotamento\n",
    "\n",
    "latitude"
   ]
  },
  {
   "cell_type": "code",
   "execution_count": null,
   "id": "de094fe6",
   "metadata": {},
   "outputs": [],
   "source": [
    "# Permutar valores de variáveis sem usar variável auxiliar\n",
    "\n",
    "a = 1\n",
    "b = 2\n",
    "\n",
    "b, a = a,b\n",
    "\n",
    "print(a)\n",
    "\n",
    "print(b)\n",
    "\n"
   ]
  },
  {
   "cell_type": "markdown",
   "id": "1c3038e2",
   "metadata": {},
   "source": [
    "Outro exemplo de empacotamento é prefixar um argumento com * ao chamar uma função:"
   ]
  },
  {
   "cell_type": "code",
   "execution_count": null,
   "id": "2a2b5114",
   "metadata": {},
   "outputs": [],
   "source": [
    "divmod(20,8) # Retorna a divisão e o resto\n",
    "\n",
    "t = (20,8)\n",
    "\n",
    "divmod(*t)\n",
    "\n",
    "quociente, resto = divmod(*t)\n",
    "\n",
    "print(quociente, resto)"
   ]
  },
  {
   "cell_type": "code",
   "execution_count": null,
   "id": "d0809bd0",
   "metadata": {},
   "outputs": [],
   "source": [
    "import os \n",
    "# os.path.split() cria uma tupla (path, last_part) a partir de um caminho do sistema de arquivos\n",
    "_ , filename = os.path.split('/home/thiago/.ssh/id_ed25519.pub')\n",
    "\n",
    "filename"
   ]
  },
  {
   "cell_type": "markdown",
   "id": "7d7b450c",
   "metadata": {},
   "source": [
    "### 2.5.1 Usando o operador `*` para recolher itens em excesso"
   ]
  },
  {
   "cell_type": "code",
   "execution_count": null,
   "id": "490531b8",
   "metadata": {},
   "outputs": [],
   "source": [
    "a, b, *rest = range(5)\n",
    "\n",
    "rest"
   ]
  }
 ],
 "metadata": {
  "kernelspec": {
   "display_name": ".venv",
   "language": "python",
   "name": "python3"
  },
  "language_info": {
   "codemirror_mode": {
    "name": "ipython",
    "version": 3
   },
   "file_extension": ".py",
   "mimetype": "text/x-python",
   "name": "python",
   "nbconvert_exporter": "python",
   "pygments_lexer": "ipython3",
   "version": "3.13.5"
  }
 },
 "nbformat": 4,
 "nbformat_minor": 5
}
