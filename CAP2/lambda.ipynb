{
 "cells": [
  {
   "cell_type": "markdown",
   "id": "204d0b97",
   "metadata": {},
   "source": [
    "# Funções Lambda\n",
    "\n",
    "Fonte: Geeks for Geeks\n",
    "\n",
    "São funções anônimas (funções sem nome). Como já conhecemos, `def` é usado para definir uma função normal. `lambda` é utilizada para definir uma função anônima.\n"
   ]
  },
  {
   "cell_type": "code",
   "execution_count": null,
   "id": "33993e86",
   "metadata": {},
   "outputs": [
    {
     "name": "stdout",
     "output_type": "stream",
     "text": [
      "OLÁ, MUNDO!\n"
     ]
    }
   ],
   "source": [
    "s1 = 'Olá, Mundo!'\n",
    "# Nesse exemplo, utilizamos uma função lambda para para convertar uma string para uppercase.\n",
    "s2 = lambda func: func.upper()\n",
    "\n",
    "print(s2(s1))"
   ]
  },
  {
   "cell_type": "markdown",
   "id": "e27a89c1",
   "metadata": {},
   "source": [
    "#### Sintaxe:\n",
    "\n",
    "`lambda argumentos: expressão`\n",
    "\n",
    "\n",
    "lambda  -> palavra chave que que define a função.\n",
    "\n",
    "argumentos -> Parametros de entrada separados por vírgula\n",
    "\n",
    "expressão -> Uma expressão única que é avaliada e retornada"
   ]
  },
  {
   "cell_type": "markdown",
   "id": "ad3a4bc7",
   "metadata": {},
   "source": [
    "Utilizando `if-else` aninhados com lambda"
   ]
  },
  {
   "cell_type": "code",
   "execution_count": 4,
   "id": "7ae6f54e",
   "metadata": {},
   "outputs": [
    {
     "data": {
      "text/plain": [
       "'Zero'"
      ]
     },
     "execution_count": 4,
     "metadata": {},
     "output_type": "execute_result"
    }
   ],
   "source": [
    "n = lambda x: \"Positive\" if x > 0 else \"Negative\" if x < 0 else \"Zero\"\n",
    "\n",
    "n(0)"
   ]
  },
  {
   "cell_type": "code",
   "execution_count": 6,
   "id": "56e40207",
   "metadata": {},
   "outputs": [
    {
     "name": "stdout",
     "output_type": "stream",
     "text": [
      "Impar\n",
      "Par\n",
      "Impar\n",
      "Par\n"
     ]
    }
   ],
   "source": [
    "e_par = lambda x: \"Par\" if x % 2 == 0 else \"Impar\"\n",
    "\n",
    "\n",
    "print(e_par(1))\n",
    "print(e_par(500))\n",
    "print(e_par(5))\n",
    "print(e_par(0))"
   ]
  },
  {
   "cell_type": "markdown",
   "id": "7d0e7b45",
   "metadata": {},
   "source": [
    "#### Usando junto com ListComp\n",
    "\n",
    "Essa abordagem permite transformar dados de forma concisa "
   ]
  },
  {
   "cell_type": "code",
   "execution_count": 8,
   "id": "4b9f628b",
   "metadata": {},
   "outputs": [
    {
     "name": "stdout",
     "output_type": "stream",
     "text": [
      "10\n",
      "20\n",
      "30\n",
      "40\n"
     ]
    }
   ],
   "source": [
    "li = [lambda arg=x: arg*10 for x in range(1,5)]\n",
    "\n",
    "for l in li:\n",
    "    print(l())\n",
    "\n"
   ]
  },
  {
   "cell_type": "markdown",
   "id": "10c2157b",
   "metadata": {},
   "source": [
    "- a função lambda multiplica cada elemento por 10\n",
    "- a compreensão de lista itera sobre `li`\n",
    "- Ideal para aplicar transformações para datasets em processamento de dados ou manipulação"
   ]
  }
 ],
 "metadata": {
  "kernelspec": {
   "display_name": ".venv",
   "language": "python",
   "name": "python3"
  },
  "language_info": {
   "codemirror_mode": {
    "name": "ipython",
    "version": 3
   },
   "file_extension": ".py",
   "mimetype": "text/x-python",
   "name": "python",
   "nbconvert_exporter": "python",
   "pygments_lexer": "ipython3",
   "version": "3.13.7"
  }
 },
 "nbformat": 4,
 "nbformat_minor": 5
}
