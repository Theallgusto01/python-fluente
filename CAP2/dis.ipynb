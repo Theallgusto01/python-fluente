{
 "cells": [
  {
   "cell_type": "markdown",
   "id": "53b1e7ad",
   "metadata": {},
   "source": [
    "# `dis` - Desmontador para bytecode Python"
   ]
  },
  {
   "cell_type": "code",
   "execution_count": null,
   "id": "22ea0e70",
   "metadata": {
    "vscode": {
     "languageId": "plaintext"
    }
   },
   "outputs": [],
   "source": [
    "O módul"
   ]
  }
 ],
 "metadata": {
  "language_info": {
   "name": "python"
  }
 },
 "nbformat": 4,
 "nbformat_minor": 5
}
