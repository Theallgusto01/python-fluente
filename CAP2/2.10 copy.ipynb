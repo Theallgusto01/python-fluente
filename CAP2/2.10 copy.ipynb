{
 "cells": [
  {
   "cell_type": "markdown",
   "id": "145df139",
   "metadata": {},
   "source": [
    "# 2.10 Quando uma lista não é a resposta"
   ]
  },
  {
   "cell_type": "markdown",
   "id": "b177a56f",
   "metadata": {},
   "source": [
    "Alternativas à listas:\n",
    "\n",
    "array -> Economiza memória  qunado se trabalha com valores de ponto flutuante\n",
    "deque -> uma estrutuda de dados FIFO mais eficiente\n",
    "set   -> otimizado para verificação rápidade presença de itens. São iteráveis, mas não sequências\n",
    "\n",
    "> Se seu código frequentemente verifica se um item está presente em uma coleção (`item in my_collection`), considere um `set` para `my_collection`. "
   ]
  },
  {
   "cell_type": "markdown",
   "id": "eb2abc7e",
   "metadata": {},
   "source": [
    "## 2.10.1 Arrays\n",
    "\n",
    "Se uma lista contém apenas números, um array.array é um substituto mais eficiente. Arrays suportam todas as operações de sequência mutáveis (incluindo .pop, .insert, .extend) bem como métodos adicionais para carregamento e armazenamento rápido: `frombytes` e `.tofile`\n",
    "\n",
    "\n",
    "> um array de floats não contém objetos do tipo float, mas os bytes representando os valores em código de máquina\n"
   ]
  },
  {
   "cell_type": "code",
   "execution_count": 1,
   "id": "fdffd829",
   "metadata": {},
   "outputs": [],
   "source": [
    "from array import array\n",
    "from random import random\n",
    "\n",
    "# # Cria um array de floats de dupla precisão (tipo d)\n",
    "# # a partir da expressão geradora\n",
    "\n",
    "# floats = array('d', (random() for i in range(10**7)))\n",
    "\n",
    "# print(floats[-1])\n",
    "\n",
    "# fp = open('floats.bin', 'wb')\n",
    "\n",
    "# # Salva o array em um arquivo binário\n",
    "# floats.tofile(fp)\n",
    "\n",
    "# fp.close()\n",
    "\n",
    "# # Cria um array vazio de double\n",
    "# floats2 = array('d')\n",
    "\n",
    "# fp = open('floats.bin', 'rb')\n",
    "# floats2.fromfile(fp, 10**7) # Lê os 10 milhões de de números do arquivo binário\n",
    "\n",
    "# fp.close()\n",
    "\n",
    "# print(floats2[-1]) \n",
    "\n",
    "# floats2 == floats # Os arrays são iguais\n"
   ]
  },
  {
   "cell_type": "markdown",
   "id": "843579bc",
   "metadata": {},
   "source": [
    "Array não possui um método `sort` equivalente a `list.sort()`, que reordena os elementos "
   ]
  },
  {
   "cell_type": "markdown",
   "id": "2ee0d252",
   "metadata": {},
   "source": [
    "a = array.array(a.typecode, sorted(a))"
   ]
  },
  {
   "cell_type": "markdown",
   "id": "05a210ef",
   "metadata": {},
   "source": [
    "## 2.10. Views de memória\n",
    "\n",
    "Tipo de sequência de memória compartilhada, que permite manipular fatias de arrays sem copiar bytes. \n"
   ]
  },
  {
   "cell_type": "code",
   "execution_count": 8,
   "id": "9f9d12d0",
   "metadata": {},
   "outputs": [
    {
     "name": "stdout",
     "output_type": "stream",
     "text": [
      "array('B', [0, 1, 2, 3, 4, 5])\n",
      "[0, 1, 2, 3, 4, 5]\n",
      "[[0, 1, 2], [3, 4, 5]]\n",
      "[[0, 1], [2, 3], [4, 5]]\n",
      "array('B', [0, 1, 2, 33, 22, 5])\n"
     ]
    }
   ],
   "source": [
    "from array import array\n",
    "\n",
    "octets = array('B', range(6))\n",
    "\n",
    "print(octets)\n",
    "\n",
    "m1 = memoryview(octets)\n",
    "\n",
    "print(m1.tolist())\n",
    "\n",
    "m2 = m1.cast('B', [2,3])\n",
    "\n",
    "print(m2.tolist())\n",
    "\n",
    "m3 = m1.cast('B', [3,2])\n",
    "\n",
    "print(m3.tolist())\n",
    "\n",
    "m2[1,1] = 22\n",
    "m3[1,1] = 33\n",
    "\n",
    "print(octets)"
   ]
  }
 ],
 "metadata": {
  "kernelspec": {
   "display_name": ".venv",
   "language": "python",
   "name": "python3"
  },
  "language_info": {
   "codemirror_mode": {
    "name": "ipython",
    "version": 3
   },
   "file_extension": ".py",
   "mimetype": "text/x-python",
   "name": "python",
   "nbconvert_exporter": "python",
   "pygments_lexer": "ipython3",
   "version": "3.13.5"
  }
 },
 "nbformat": 4,
 "nbformat_minor": 5
}
