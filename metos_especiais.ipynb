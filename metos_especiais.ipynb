{
 "cells": [
  {
   "cell_type": "markdown",
   "id": "9e11229b",
   "metadata": {},
   "source": [
    "# Métodos Especiais"
   ]
  },
  {
   "cell_type": "markdown",
   "id": "22505b2a",
   "metadata": {},
   "source": [
    "Geralmente não devemos fazer chamadas a métodos especiais. O único método especial comumente chamado é `__init__`"
   ]
  },
  {
   "cell_type": "markdown",
   "id": "6961419c",
   "metadata": {},
   "source": [
    "### Emulando tipos numéricos"
   ]
  },
  {
   "cell_type": "markdown",
   "id": "554107ac",
   "metadata": {},
   "source": []
  },
  {
   "cell_type": "code",
   "execution_count": null,
   "id": "3d38df3e",
   "metadata": {},
   "outputs": [],
   "source": [
    "import math\n",
    "\n",
    "class Vector:\n",
    "\n",
    "    def __init__(self, x, y):\n",
    "        self.x = x\n",
    "        self.y = y\n",
    "    \n",
    "    def __repr__(self):\n",
    "        # !r dentro da f-string aparentemente chama o repr para x e y\n",
    "        return f'Vector({self.x!r}, {self.y!r})'\n",
    "        \n",
    "    def __abs__(self):\n",
    "        # math.hypot para calcular a hipotenusa a partir de 2 catetos\n",
    "        return math.hypot(self.x, self.y)\n",
    "        # retorna um novo objeto Vector com somando dois vetores\n",
    "    def __add__(self, vetor):\n",
    "        return Vector(self.x+vetor.x, self.y+vetor.y)\n",
    "    \n",
    "    def __bool__(self):\n",
    "        return bool(abs(self))\n",
    "    \n",
    "    def __mul__(self, scalar):\n",
    "        return Vector(self.x * scalar, self.y * scalar)\n",
    "    "
   ]
  },
  {
   "cell_type": "code",
   "execution_count": 16,
   "id": "6734ea69",
   "metadata": {},
   "outputs": [
    {
     "name": "stdout",
     "output_type": "stream",
     "text": [
      "Vector(3, 4)\n"
     ]
    }
   ],
   "source": [
    "vetor = Vector(3,4)\n",
    "\n",
    "print(vetor)"
   ]
  }
 ],
 "metadata": {
  "kernelspec": {
   "display_name": ".venv",
   "language": "python",
   "name": "python3"
  },
  "language_info": {
   "codemirror_mode": {
    "name": "ipython",
    "version": 3
   },
   "file_extension": ".py",
   "mimetype": "text/x-python",
   "name": "python",
   "nbconvert_exporter": "python",
   "pygments_lexer": "ipython3",
   "version": "3.13.7"
  }
 },
 "nbformat": 4,
 "nbformat_minor": 5
}
